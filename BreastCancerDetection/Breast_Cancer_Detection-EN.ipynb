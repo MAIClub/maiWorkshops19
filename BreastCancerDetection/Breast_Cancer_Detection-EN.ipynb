{
  "nbformat": 4,
  "nbformat_minor": 0,
  "metadata": {
    "colab": {
      "name": "Breast-Cancer-Detection.ipynb",
      "version": "0.3.2",
      "provenance": [],
      "collapsed_sections": [],
      "toc_visible": true
    },
    "kernelspec": {
      "name": "python3",
      "display_name": "Python 3"
    },
    "accelerator": "GPU"
  },
  "cells": [
    {
      "cell_type": "markdown",
      "metadata": {
        "id": "-q6DysR2nCLx",
        "colab_type": "text"
      },
      "source": [
        "\n",
        "\n",
        "---\n",
        "\n",
        "\n",
        "# Using kaggle API to download the dataset\n",
        "\n",
        "  What is kaggle?\n",
        "  \n",
        "  ***Kaggle is an online community of data scientists and machine learners, owned by Google LLC. Kaggle allows users to find and publish data sets, explore and build models in a web-based data-science environment, work with other data scientists and machine learning engineers, and enter competitions to solve data science challenges.***\n",
        "  \n",
        "*   First you need to create an account on kaggle\n",
        "*   From your account details, create an API token which will download a json file\n",
        "*   Then you can use your API key to use commands provided from kaggle\n",
        "\n",
        "\n",
        "\n"
      ]
    },
    {
      "cell_type": "code",
      "metadata": {
        "id": "wGozYgyoX7_w",
        "colab_type": "code",
        "colab": {}
      },
      "source": [
        "!mkdir /root/.kaggle/\n",
        "!touch /root/.kaggle/kaggle.json\n",
        "!chmod 600 /root/.kaggle/kaggle.json\n",
        "!echo '{\"username\":\"maibot\",\"key\":\"6d074d5b96d5e062ee89f0330b8a4cc2\"}' > /root/.kaggle/kaggle.json"
      ],
      "execution_count": 0,
      "outputs": []
    },
    {
      "cell_type": "markdown",
      "metadata": {
        "id": "jPNAAnSymxY0",
        "colab_type": "text"
      },
      "source": [
        "---\n",
        "# Retrieving the dataset from kaggle\n",
        "\n"
      ]
    },
    {
      "cell_type": "code",
      "metadata": {
        "id": "wO_or16_Y8_v",
        "colab_type": "code",
        "outputId": "f8f47a26-486c-46c5-88fc-72614d414d79",
        "colab": {
          "base_uri": "https://localhost:8080/",
          "height": 104
        }
      },
      "source": [
        "!kaggle datasets download -d uciml/breast-cancer-wisconsin-data\n",
        "!unzip breast-cancer-wisconsin-data.zip"
      ],
      "execution_count": 0,
      "outputs": [
        {
          "output_type": "stream",
          "text": [
            "Downloading breast-cancer-wisconsin-data.zip to /content\n",
            "\r  0% 0.00/48.0k [00:00<?, ?B/s]\n",
            "\r100% 48.0k/48.0k [00:00<00:00, 41.8MB/s]\n",
            "Archive:  breast-cancer-wisconsin-data.zip\n",
            "  inflating: data.csv                \n"
          ],
          "name": "stdout"
        }
      ]
    },
    {
      "cell_type": "markdown",
      "metadata": {
        "id": "Kc4Cq_9HoaVn",
        "colab_type": "text"
      },
      "source": [
        "---\n",
        "\n",
        "#Loading the dataset\n",
        "\n",
        "This datasets provides features of a tumor in breast tissue collected over 500 patients.\n",
        "A dataset is a component of any deep learning project,without them,the model*\n",
        "has nothing to train with.\n",
        "\n",
        "> **Model**: The term model refers to the model artifact that is created by the training process."
      ]
    },
    {
      "cell_type": "code",
      "metadata": {
        "id": "koPV1JmSmfY4",
        "colab_type": "code",
        "outputId": "681d0dee-c170-4b80-a6b3-f0450a06cdf6",
        "colab": {
          "base_uri": "https://localhost:8080/",
          "height": 239
        }
      },
      "source": [
        "import pandas as pd\n",
        "\n",
        "data = pd.read_csv(\"data.csv\")\n",
        "data.drop([\"Unnamed: 32\"],axis=1,inplace=True) #deleting a corrupted column in the dataset which we don't need\n",
        "data.drop([\"id\"],axis = 1,inplace=True) # also deleting another unnecessary column; id. which has nothing to do with breast cancer\n",
        "data.head()\n",
        "#data.count(axis = 'columns')"
      ],
      "execution_count": 0,
      "outputs": [
        {
          "output_type": "execute_result",
          "data": {
            "text/html": [
              "<div>\n",
              "<style scoped>\n",
              "    .dataframe tbody tr th:only-of-type {\n",
              "        vertical-align: middle;\n",
              "    }\n",
              "\n",
              "    .dataframe tbody tr th {\n",
              "        vertical-align: top;\n",
              "    }\n",
              "\n",
              "    .dataframe thead th {\n",
              "        text-align: right;\n",
              "    }\n",
              "</style>\n",
              "<table border=\"1\" class=\"dataframe\">\n",
              "  <thead>\n",
              "    <tr style=\"text-align: right;\">\n",
              "      <th></th>\n",
              "      <th>diagnosis</th>\n",
              "      <th>radius_mean</th>\n",
              "      <th>texture_mean</th>\n",
              "      <th>perimeter_mean</th>\n",
              "      <th>area_mean</th>\n",
              "      <th>smoothness_mean</th>\n",
              "      <th>compactness_mean</th>\n",
              "      <th>concavity_mean</th>\n",
              "      <th>concave points_mean</th>\n",
              "      <th>symmetry_mean</th>\n",
              "      <th>fractal_dimension_mean</th>\n",
              "      <th>radius_se</th>\n",
              "      <th>texture_se</th>\n",
              "      <th>perimeter_se</th>\n",
              "      <th>area_se</th>\n",
              "      <th>smoothness_se</th>\n",
              "      <th>compactness_se</th>\n",
              "      <th>concavity_se</th>\n",
              "      <th>concave points_se</th>\n",
              "      <th>symmetry_se</th>\n",
              "      <th>fractal_dimension_se</th>\n",
              "      <th>radius_worst</th>\n",
              "      <th>texture_worst</th>\n",
              "      <th>perimeter_worst</th>\n",
              "      <th>area_worst</th>\n",
              "      <th>smoothness_worst</th>\n",
              "      <th>compactness_worst</th>\n",
              "      <th>concavity_worst</th>\n",
              "      <th>concave points_worst</th>\n",
              "      <th>symmetry_worst</th>\n",
              "      <th>fractal_dimension_worst</th>\n",
              "    </tr>\n",
              "  </thead>\n",
              "  <tbody>\n",
              "    <tr>\n",
              "      <th>0</th>\n",
              "      <td>M</td>\n",
              "      <td>17.99</td>\n",
              "      <td>10.38</td>\n",
              "      <td>122.80</td>\n",
              "      <td>1001.0</td>\n",
              "      <td>0.11840</td>\n",
              "      <td>0.27760</td>\n",
              "      <td>0.3001</td>\n",
              "      <td>0.14710</td>\n",
              "      <td>0.2419</td>\n",
              "      <td>0.07871</td>\n",
              "      <td>1.0950</td>\n",
              "      <td>0.9053</td>\n",
              "      <td>8.589</td>\n",
              "      <td>153.40</td>\n",
              "      <td>0.006399</td>\n",
              "      <td>0.04904</td>\n",
              "      <td>0.05373</td>\n",
              "      <td>0.01587</td>\n",
              "      <td>0.03003</td>\n",
              "      <td>0.006193</td>\n",
              "      <td>25.38</td>\n",
              "      <td>17.33</td>\n",
              "      <td>184.60</td>\n",
              "      <td>2019.0</td>\n",
              "      <td>0.1622</td>\n",
              "      <td>0.6656</td>\n",
              "      <td>0.7119</td>\n",
              "      <td>0.2654</td>\n",
              "      <td>0.4601</td>\n",
              "      <td>0.11890</td>\n",
              "    </tr>\n",
              "    <tr>\n",
              "      <th>1</th>\n",
              "      <td>M</td>\n",
              "      <td>20.57</td>\n",
              "      <td>17.77</td>\n",
              "      <td>132.90</td>\n",
              "      <td>1326.0</td>\n",
              "      <td>0.08474</td>\n",
              "      <td>0.07864</td>\n",
              "      <td>0.0869</td>\n",
              "      <td>0.07017</td>\n",
              "      <td>0.1812</td>\n",
              "      <td>0.05667</td>\n",
              "      <td>0.5435</td>\n",
              "      <td>0.7339</td>\n",
              "      <td>3.398</td>\n",
              "      <td>74.08</td>\n",
              "      <td>0.005225</td>\n",
              "      <td>0.01308</td>\n",
              "      <td>0.01860</td>\n",
              "      <td>0.01340</td>\n",
              "      <td>0.01389</td>\n",
              "      <td>0.003532</td>\n",
              "      <td>24.99</td>\n",
              "      <td>23.41</td>\n",
              "      <td>158.80</td>\n",
              "      <td>1956.0</td>\n",
              "      <td>0.1238</td>\n",
              "      <td>0.1866</td>\n",
              "      <td>0.2416</td>\n",
              "      <td>0.1860</td>\n",
              "      <td>0.2750</td>\n",
              "      <td>0.08902</td>\n",
              "    </tr>\n",
              "    <tr>\n",
              "      <th>2</th>\n",
              "      <td>M</td>\n",
              "      <td>19.69</td>\n",
              "      <td>21.25</td>\n",
              "      <td>130.00</td>\n",
              "      <td>1203.0</td>\n",
              "      <td>0.10960</td>\n",
              "      <td>0.15990</td>\n",
              "      <td>0.1974</td>\n",
              "      <td>0.12790</td>\n",
              "      <td>0.2069</td>\n",
              "      <td>0.05999</td>\n",
              "      <td>0.7456</td>\n",
              "      <td>0.7869</td>\n",
              "      <td>4.585</td>\n",
              "      <td>94.03</td>\n",
              "      <td>0.006150</td>\n",
              "      <td>0.04006</td>\n",
              "      <td>0.03832</td>\n",
              "      <td>0.02058</td>\n",
              "      <td>0.02250</td>\n",
              "      <td>0.004571</td>\n",
              "      <td>23.57</td>\n",
              "      <td>25.53</td>\n",
              "      <td>152.50</td>\n",
              "      <td>1709.0</td>\n",
              "      <td>0.1444</td>\n",
              "      <td>0.4245</td>\n",
              "      <td>0.4504</td>\n",
              "      <td>0.2430</td>\n",
              "      <td>0.3613</td>\n",
              "      <td>0.08758</td>\n",
              "    </tr>\n",
              "    <tr>\n",
              "      <th>3</th>\n",
              "      <td>M</td>\n",
              "      <td>11.42</td>\n",
              "      <td>20.38</td>\n",
              "      <td>77.58</td>\n",
              "      <td>386.1</td>\n",
              "      <td>0.14250</td>\n",
              "      <td>0.28390</td>\n",
              "      <td>0.2414</td>\n",
              "      <td>0.10520</td>\n",
              "      <td>0.2597</td>\n",
              "      <td>0.09744</td>\n",
              "      <td>0.4956</td>\n",
              "      <td>1.1560</td>\n",
              "      <td>3.445</td>\n",
              "      <td>27.23</td>\n",
              "      <td>0.009110</td>\n",
              "      <td>0.07458</td>\n",
              "      <td>0.05661</td>\n",
              "      <td>0.01867</td>\n",
              "      <td>0.05963</td>\n",
              "      <td>0.009208</td>\n",
              "      <td>14.91</td>\n",
              "      <td>26.50</td>\n",
              "      <td>98.87</td>\n",
              "      <td>567.7</td>\n",
              "      <td>0.2098</td>\n",
              "      <td>0.8663</td>\n",
              "      <td>0.6869</td>\n",
              "      <td>0.2575</td>\n",
              "      <td>0.6638</td>\n",
              "      <td>0.17300</td>\n",
              "    </tr>\n",
              "    <tr>\n",
              "      <th>4</th>\n",
              "      <td>M</td>\n",
              "      <td>20.29</td>\n",
              "      <td>14.34</td>\n",
              "      <td>135.10</td>\n",
              "      <td>1297.0</td>\n",
              "      <td>0.10030</td>\n",
              "      <td>0.13280</td>\n",
              "      <td>0.1980</td>\n",
              "      <td>0.10430</td>\n",
              "      <td>0.1809</td>\n",
              "      <td>0.05883</td>\n",
              "      <td>0.7572</td>\n",
              "      <td>0.7813</td>\n",
              "      <td>5.438</td>\n",
              "      <td>94.44</td>\n",
              "      <td>0.011490</td>\n",
              "      <td>0.02461</td>\n",
              "      <td>0.05688</td>\n",
              "      <td>0.01885</td>\n",
              "      <td>0.01756</td>\n",
              "      <td>0.005115</td>\n",
              "      <td>22.54</td>\n",
              "      <td>16.67</td>\n",
              "      <td>152.20</td>\n",
              "      <td>1575.0</td>\n",
              "      <td>0.1374</td>\n",
              "      <td>0.2050</td>\n",
              "      <td>0.4000</td>\n",
              "      <td>0.1625</td>\n",
              "      <td>0.2364</td>\n",
              "      <td>0.07678</td>\n",
              "    </tr>\n",
              "  </tbody>\n",
              "</table>\n",
              "</div>"
            ],
            "text/plain": [
              "  diagnosis  radius_mean  ...  symmetry_worst  fractal_dimension_worst\n",
              "0         M        17.99  ...          0.4601                  0.11890\n",
              "1         M        20.57  ...          0.2750                  0.08902\n",
              "2         M        19.69  ...          0.3613                  0.08758\n",
              "3         M        11.42  ...          0.6638                  0.17300\n",
              "4         M        20.29  ...          0.2364                  0.07678\n",
              "\n",
              "[5 rows x 31 columns]"
            ]
          },
          "metadata": {
            "tags": []
          },
          "execution_count": 4
        }
      ]
    },
    {
      "cell_type": "markdown",
      "metadata": {
        "id": "BbUWsW0z9XY7",
        "colab_type": "text"
      },
      "source": [
        "Here, we are splitting the data to ***features*** and ***diagnosis***.\n",
        "\n",
        "This is is **crucial step** to be able to train the model, *Why?:*\n",
        "\n",
        "\n",
        "> The model needs some features about a breast cancer case and needs to associate the features to the diagnosis so it can find a correlation.\n",
        "\n",
        "And in the code, we are replacing all the diagnosis' with ***Malign*** to *1* \n",
        "and with ***Benign*** to *0* \n",
        "\n",
        "> *(ie. 1 for yes, 0 for no).*\n",
        "\n",
        "\n",
        "\n",
        "\n",
        "\n"
      ]
    },
    {
      "cell_type": "code",
      "metadata": {
        "id": "HbHMs3-1aS-7",
        "colab_type": "code",
        "colab": {}
      },
      "source": [
        "\n",
        "data[\"diagnosis\"] = [1 if var == \"M\" else 0 for var in data[\"diagnosis\"]]\n",
        "y = data[\"diagnosis\"].values\n",
        "data.drop([\"diagnosis\"],axis=1,inplace=True)\n",
        "x = data"
      ],
      "execution_count": 0,
      "outputs": []
    },
    {
      "cell_type": "markdown",
      "metadata": {
        "id": "YOf0rxdHUGA2",
        "colab_type": "text"
      },
      "source": [
        "In the part, ***TRAIN TEST SPLIT***\n",
        "\n",
        "We are taking the dataset into 2 parts; **train** and **test**.\n",
        "which will be %80 train data and %20 test data\n",
        "\n",
        "(*Eg. If we had a dataset consisting of 10.000 cases, train data would consist of 8.000 cases*)\n",
        "\n",
        "\n",
        "> The reason for this, is that, our model needs a dataset to train on and a dataset to test how much it learned from training.\n",
        "\n",
        "In the part ***STANDARD SCALING***\n",
        "\n",
        "We converting all of our data features onto the same scale.\n",
        "The scale ***roughly*** starts from **-1** to **1**\n",
        "\n",
        "*(Eg if a feature value is 56, after scaling it will be 0.56, it will mean the same thing but on a smaller scale.\n",
        "**beware, this is not how it exactly works, it's just an explaination in simpler terms**)*\n",
        "\n",
        "> The simple reason for Standard Scaling is, when the values our model uses are much smaller, the total computation time is shorter\n"
      ]
    },
    {
      "cell_type": "code",
      "metadata": {
        "id": "U-RvCLh2a5TL",
        "colab_type": "code",
        "colab": {}
      },
      "source": [
        "#TRAIN TEST SPLIT\n",
        "from sklearn.model_selection import train_test_split\n",
        "x_train,x_test,y_train,y_test = train_test_split(x,y, test_size=0.2,random_state = 0)\n",
        "\n",
        "#STANDARD SCALING\n",
        "from sklearn.preprocessing import StandardScaler\n",
        "scaler=StandardScaler()\n",
        "x_train = scaler.fit_transform(x_train)\n",
        "x_test = scaler.transform(x_test)"
      ],
      "execution_count": 0,
      "outputs": []
    },
    {
      "cell_type": "markdown",
      "metadata": {
        "id": "o5cr_sTOZHK4",
        "colab_type": "text"
      },
      "source": [
        "---\n",
        "# Training the model"
      ]
    },
    {
      "cell_type": "code",
      "metadata": {
        "id": "fYO9swb0bBPk",
        "colab_type": "code",
        "colab": {}
      },
      "source": [
        "from keras.models import Sequential\n",
        "from keras.layers import Dense\n",
        "from keras.layers import Dropout\n",
        "#%% NORMAL TRAIN\n",
        "model =Sequential()\n",
        "model.add(Dense(units=16,init= 'uniform',activation = 'relu',input_dim =  30 ))\n",
        "model.add(Dense(units=32,init= 'uniform',activation = 'relu' ))\n",
        "model.add(Dense(units=64,init= 'uniform',activation = 'relu' ))\n",
        "model.add(Dropout(0.25))\n",
        "model.add(Dense(units=1,init= 'uniform',activation = 'sigmoid'))\n",
        "model.compile(optimizer = 'adam', loss = 'binary_crossentropy', metrics = ['accuracy'])"
      ],
      "execution_count": 0,
      "outputs": []
    },
    {
      "cell_type": "code",
      "metadata": {
        "id": "b7qVyq7zb1hl",
        "colab_type": "code",
        "colab": {}
      },
      "source": [
        "results = model.fit(x_train, y_train, batch_size = 16, epochs = 50,validation_data = (x_test,y_test))\n",
        "loss = results.history['loss']\n",
        "val_loss = results.history['val_loss']\n",
        "acc = results.history['acc']\n",
        "val_acc = results.history['val_acc']\n",
        "epochs = range(1,len(loss) + 1)"
      ],
      "execution_count": 0,
      "outputs": []
    },
    {
      "cell_type": "code",
      "metadata": {
        "id": "Uq2dfNlYb6E8",
        "colab_type": "code",
        "colab": {}
      },
      "source": [
        "import matplotlib.pyplot as plt\n",
        "plt.subplot(211)\n",
        "plt.plot(epochs,loss,'r--')\n",
        "plt.plot(epochs,val_loss,'b-')\n",
        "plt.title(\"Loss Grafiği\")\n",
        "plt.legend([\"Eğitim loss\",\"Test loss\"])\n",
        "plt.xlabel('Epoch')\n",
        "plt.xticks(range(1,2))\n",
        "plt.ylabel('Loss')\n",
        "\n",
        "\n",
        "plt.subplot(212)\n",
        "plt.plot(epochs,acc,'r--')\n",
        "plt.plot(epochs,val_acc,'g-')\n",
        "plt.title(\"Doğruluk Grafiği\")\n",
        "plt.legend([\"Eğitim doğruluğu\",\"Test doğruluğu\"])\n",
        "plt.xlabel('Epoch')\n",
        "plt.xticks(range(1,2))\n",
        "plt.ylabel('Doğruluk')\n",
        "\n",
        "plt.show()\n"
      ],
      "execution_count": 0,
      "outputs": []
    },
    {
      "cell_type": "code",
      "metadata": {
        "id": "feeryypLifLp",
        "colab_type": "code",
        "colab": {}
      },
      "source": [
        ""
      ],
      "execution_count": 0,
      "outputs": []
    }
  ]
}
