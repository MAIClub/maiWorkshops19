{
 "cells": [
  {
   "cell_type": "markdown",
   "metadata": {},
   "source": [
    "# Python Alıştırmaları"
   ]
  },
  {
   "cell_type": "markdown",
   "metadata": {},
   "source": [
    "### Bazı Built-in Fonksiyonlar"
   ]
  },
  {
   "cell_type": "markdown",
   "metadata": {},
   "source": [
    "```abs()```\n",
    "\n",
    "İngilizcede ‘mutlak’ anlamına gelen absolute adlı bir kelime bulunur. İşte bu fonksiyonun adı da bu kelimeden gelir. Fonksiyonumuzun görevi de isminin anlamına yakındır. abs() fonksiyonunu bir sayının mutlak değerini elde etmek için kullanıyoruz."
   ]
  },
  {
   "cell_type": "markdown",
   "metadata": {},
   "source": [
    "```bin()```\n",
    "\n",
    "Bu fonksiyon, bir sayının ikili düzendeki karşılığını verir"
   ]
  },
  {
   "cell_type": "markdown",
   "metadata": {},
   "source": [
    "```chr()```\n",
    "\n",
    "Bu fonksiyon, kendisine parametre olarak verilen bir tam sayının karakter karşılığını döndürür."
   ]
  },
  {
   "cell_type": "markdown",
   "metadata": {},
   "source": [
    "```float()```\n",
    "\n",
    "Bu fonksiyonu, sayıları veya karakter dizilerini kayan noktalı sayıya dönüştürmek için kullanıyoruz"
   ]
  },
  {
   "cell_type": "markdown",
   "metadata": {},
   "source": [
    "```max()```\n",
    "\n",
    "```max()``` gömülü fonksiyonunun görevi, bir dizi içindeki en büyük öğeyi vermektir. Bu fonksiyon birkaç \n",
    "farklı parametre alır ve verdiği çıktı, aldığı parametrelerin türüne ve sayısına bağlı olarak değişiklik gösterebilir."
   ]
  },
  {
   "cell_type": "markdown",
   "metadata": {},
   "source": [
    "```min()```\n",
    "\n",
    "```min()``` fonksiyonu ```max()``` fonksiyonunun tam tersini yapar. Bildiğiniz gibi max() fonksiyonu bir dizi içindeki en büyük öğeyi buluyordu. İşte ```min()``` fonksiyonu da bir dizi içindeki en küçük öğeyi bulur. Bu fonksiyonun kullanımı ```max()``` ile aynıdır.\n"
   ]
  },
  {
   "cell_type": "markdown",
   "metadata": {},
   "source": [
    "```len()```\n",
    "\n",
    "\n",
    "Bu fonksiyon yardımıyla nesnelerin uzunluklarını hesaplayabiliriz."
   ]
  },
  {
   "cell_type": "markdown",
   "metadata": {},
   "source": [
    "```pow()```\n",
    "\n",
    "Bu fonksiyon İngilizcedeki power (kuvvet) kelimesinin kısaltmasından oluşur. Adının anlamına uygun olarak, bu fonksiyonu bir sayının kuvvetlerini hesaplamak için kullanıyoruz."
   ]
  },
  {
   "cell_type": "markdown",
   "metadata": {},
   "source": [
    "## Egzersizler"
   ]
  },
  {
   "cell_type": "markdown",
   "metadata": {},
   "source": [
    "https://paste.ubuntu.com/p/6JFqtG8KdW/"
   ]
  },
  {
   "cell_type": "markdown",
   "metadata": {},
   "source": [
    "Listedeki tüm öğeleri toplamak için bir Python kod bloğu yazın."
   ]
  },
  {
   "cell_type": "markdown",
   "metadata": {},
   "source": [
    "Bir listeden en büyük sayıyı almak için bir Python kod bloğu yazın."
   ]
  },
  {
   "cell_type": "markdown",
   "metadata": {},
   "source": [
    "Bir listeden minimum sayıyı almak için bir Python kod bloğu yazın."
   ]
  },
  {
   "cell_type": "markdown",
   "metadata": {},
   "source": [
    "Diziyi sıralamak için bir Python kod bloğu yazın."
   ]
  },
  {
   "cell_type": "markdown",
   "metadata": {},
   "source": [
    "Verilen numaranın listede olup olmadığını kontrol eden bir Python kod bloğu yazın.\n",
    "* 172\n",
    "* 4833\n",
    "* 2486\n",
    "* 9264\n",
    "* 953\n",
    "* 1392"
   ]
  },
  {
   "cell_type": "markdown",
   "metadata": {},
   "source": [
    "https://paste.ubuntu.com/p/VMNGXW37XK/"
   ]
  },
  {
   "cell_type": "markdown",
   "metadata": {},
   "source": [
    "Sözlükteki her bira türünü göstermek için bir Python kod bloğu yazın"
   ]
  },
  {
   "cell_type": "markdown",
   "metadata": {},
   "source": [
    "Her \"Schwarzbier\" bira türünü göstermek için bir Python kod bloğu yazın"
   ]
  },
  {
   "cell_type": "markdown",
   "metadata": {},
   "source": [
    "Aşağıdaki verileri sözlüğe ekleyin\n",
    "\n",
    "* <u>Belgian IPA</u>\n",
    "\n",
    "    * Troll Destroyer => 1980\n",
    "\n",
    "    * Barrel Aged Triomphe => 2541\n",
    "\n",
    "    * Nuit Serpent => 2498"
   ]
  }
 ],
 "metadata": {
  "kernelspec": {
   "display_name": "Python 3",
   "language": "python",
   "name": "python3"
  },
  "language_info": {
   "codemirror_mode": {
    "name": "ipython",
    "version": 3
   },
   "file_extension": ".py",
   "mimetype": "text/x-python",
   "name": "python",
   "nbconvert_exporter": "python",
   "pygments_lexer": "ipython3",
   "version": "3.7.4"
  }
 },
 "nbformat": 4,
 "nbformat_minor": 2
}
