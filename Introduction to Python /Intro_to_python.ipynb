{
 "cells": [
  {
   "cell_type": "markdown",
   "metadata": {},
   "source": [
    "# Medical AI Club Atolye Serisi"
   ]
  },
  {
   "cell_type": "markdown",
   "metadata": {},
   "source": [
    "WS Bilgisi: MAI olarak sıfırdan başlayıp birkaç Derin Öğrenme projesiyle sonuçlanan bir AI atölye serisi düzenliyoruz."
   ]
  },
  {
   "cell_type": "markdown",
   "metadata": {},
   "source": [
    "# Python'a Giris"
   ]
  },
  {
   "cell_type": "markdown",
   "metadata": {},
   "source": [
    "# Python\n",
    "\n",
    "Python dilini hesap makinesi yerine de kullanabiliriz. Python grameri diger dillere gore daha kolaydir.\n",
    "\n",
    "## Baslangic icin basit kurallar \n",
    "Python ile kodlama yapmak icin temel kurallar sunlardir:\n",
    "* Bir ifadenin başlangıcında boşluk veya sekme karakterlerine izin verilmez: Girinti Python'da özel bir rol oynar. Şimdilik sadece tüm ifadelerin satır başında başladığından emin olun.\n",
    "* '#' Karakteri, satırın geri kalanının bir yorum olduğunu gösterir.\n",
    "* İfadeler satır sonunda bitiyor:\n",
    "  * Açık parantez veya parantez olduğu durumlar hariç:\n",
    "  \n",
    "```\n",
    "1+2\n",
    "+3  #kural disi toplama ifadesi\n",
    "(1+2             + 3) # gecerli bir toplama ifadesi\n",
    "```\n",
    "  * Satırın sonundaki tek bir ters eğik çizgi de bir ifadenin hala eksik olduğunu belirtmek için kullanılabilir.\n",
    "  \n",
    "```\n",
    "1 + \\\n",
    "   2 + 3 # gecerli toplama ifadesi \n",
    "```"
   ]
  },
  {
   "cell_type": "code",
   "execution_count": 1,
   "metadata": {},
   "outputs": [
    {
     "data": {
      "text/plain": [
       "6"
      ]
     },
     "execution_count": 1,
     "metadata": {},
     "output_type": "execute_result"
    }
   ],
   "source": [
    "1+2+3"
   ]
  },
  {
   "cell_type": "markdown",
   "metadata": {},
   "source": [
    "#### Pyhton'da her zaman ```help()``` ile yardim metnini okuyabilirsiniz"
   ]
  },
  {
   "cell_type": "code",
   "execution_count": 5,
   "metadata": {},
   "outputs": [
    {
     "name": "stdout",
     "output_type": "stream",
     "text": [
      "Help on built-in function sum in module builtins:\n",
      "\n",
      "sum(iterable, start=0, /)\n",
      "    Return the sum of a 'start' value (default: 0) plus an iterable of numbers\n",
      "    \n",
      "    When the iterable is empty, return the start value.\n",
      "    This function is intended specifically for use with numeric values and may\n",
      "    reject non-numeric types.\n",
      "\n"
     ]
    }
   ],
   "source": [
    "help(sum)"
   ]
  },
  {
   "cell_type": "markdown",
   "metadata": {},
   "source": [
    "# Degiskenler & Degerler"
   ]
  },
  {
   "cell_type": "markdown",
   "metadata": {},
   "source": [
    "* Bir şeyi veya değeri belirtmek için kullanılan bir isime değişken denir. Python'da değişkenler bildirilebilir ve değerler aşağıdaki gibi atanabilir;"
   ]
  },
  {
   "cell_type": "code",
   "execution_count": 3,
   "metadata": {},
   "outputs": [
    {
     "name": "stdout",
     "output_type": "stream",
     "text": [
      "7.2 / Hey\n",
      "type of x is  <class 'int'>\n",
      "type of y is  <class 'float'>\n",
      "type of xy is  <class 'str'>\n"
     ]
    }
   ],
   "source": [
    "x = 2          # '#' isareti yorum satirini ifade eder.\n",
    "y = 5.2\n",
    "xy = 'Hey'\n",
    "print(x+y,'/', xy) # print() fonksiyonu ekrana deger yazdirmamizi saglar.\n",
    "print('type of x is ',type(x))\n",
    "print('type of y is ',type(y))\n",
    "print('type of xy is ',type(xy))"
   ]
  },
  {
   "cell_type": "markdown",
   "metadata": {},
   "source": [
    "* Aynı değerde birden fazla değişkene atanabilir."
   ]
  },
  {
   "cell_type": "code",
   "execution_count": 8,
   "metadata": {},
   "outputs": [
    {
     "name": "stdout",
     "output_type": "stream",
     "text": [
      "1 1\n"
     ]
    }
   ],
   "source": [
    "x = y = 1\n",
    "print(x,y)"
   ]
  },
  {
   "cell_type": "markdown",
   "metadata": {},
   "source": [
    "* Python'da oluşturulan temel türler arasında `float` (basamakli sayilar), `int` (tamsayılar), `str` (unicode karakter dizeleri) ve `bool` (boolean) bulunur. Her birinin bazı örnekleri:"
   ]
  },
  {
   "cell_type": "code",
   "execution_count": 11,
   "metadata": {},
   "outputs": [
    {
     "name": "stdout",
     "output_type": "stream",
     "text": [
      "Triple quotes (also with '''), allow strings to break over multiple lines.\n",
      "Alternatively '\n",
      "' is a newline character (\t for tab, \\ is a single backslash)\n"
     ]
    }
   ],
   "source": [
    "2.0           # float ornegi\n",
    "1e100         # googol \n",
    "-1234567890   # integer\n",
    "True or False # boolean\n",
    "'This is a string'\n",
    "\"It's another string\"\n",
    "print(\"\"\"Triple quotes (also with '''), allow strings to break over multiple lines.\n",
    "Alternatively '\\n' is a newline character (\\t for tab, \\\\ is a single backslash)\"\"\")"
   ]
  },
  {
   "cell_type": "markdown",
   "metadata": {},
   "source": [
    "* Python ayrıca aşağıdaki gibi yazılabilen karmaşık numaralara sahiptir. Parantezlerin gerekli olduğunu unutmayın."
   ]
  },
  {
   "cell_type": "code",
   "execution_count": 13,
   "metadata": {},
   "outputs": [
    {
     "data": {
      "text/plain": [
       "(1+2j)"
      ]
     },
     "execution_count": 13,
     "metadata": {},
     "output_type": "execute_result"
    }
   ],
   "source": [
    "complex(1,2)\n",
    "(1+2j) # ustteki ayni numara"
   ]
  },
  {
   "cell_type": "markdown",
   "metadata": {},
   "source": [
    "# Operatorler"
   ]
  },
  {
   "cell_type": "markdown",
   "metadata": {},
   "source": [
    "## Aritmetik Operatorler"
   ]
  },
  {
   "cell_type": "markdown",
   "metadata": {},
   "source": [
    "| Symbol | Task Performed |\n",
    "|----|---|\n",
    "| +  | Addition |\n",
    "| -  | Subtraction |\n",
    "| /  | division |\n",
    "| %  | mod |\n",
    "| *  | multiplication |\n",
    "| //  | floor division |\n",
    "| **  | to the power of |"
   ]
  },
  {
   "cell_type": "code",
   "execution_count": 14,
   "metadata": {},
   "outputs": [
    {
     "data": {
      "text/plain": [
       "3"
      ]
     },
     "execution_count": 14,
     "metadata": {},
     "output_type": "execute_result"
    }
   ],
   "source": [
    "1+2"
   ]
  },
  {
   "cell_type": "code",
   "execution_count": 15,
   "metadata": {},
   "outputs": [
    {
     "data": {
      "text/plain": [
       "2"
      ]
     },
     "execution_count": 15,
     "metadata": {},
     "output_type": "execute_result"
    }
   ],
   "source": [
    "4-2"
   ]
  },
  {
   "cell_type": "code",
   "execution_count": 16,
   "metadata": {},
   "outputs": [
    {
     "data": {
      "text/plain": [
       "4.0"
      ]
     },
     "execution_count": 16,
     "metadata": {},
     "output_type": "execute_result"
    }
   ],
   "source": [
    "8/2"
   ]
  },
  {
   "cell_type": "code",
   "execution_count": 23,
   "metadata": {},
   "outputs": [
    {
     "data": {
      "text/plain": [
       "0"
      ]
     },
     "execution_count": 23,
     "metadata": {},
     "output_type": "execute_result"
    }
   ],
   "source": [
    "192%2"
   ]
  },
  {
   "cell_type": "code",
   "execution_count": 21,
   "metadata": {},
   "outputs": [
    {
     "data": {
      "text/plain": [
       "8"
      ]
     },
     "execution_count": 21,
     "metadata": {},
     "output_type": "execute_result"
    }
   ],
   "source": [
    "4*2"
   ]
  },
  {
   "cell_type": "code",
   "execution_count": 22,
   "metadata": {},
   "outputs": [
    {
     "data": {
      "text/plain": [
       "4"
      ]
     },
     "execution_count": 22,
     "metadata": {},
     "output_type": "execute_result"
    }
   ],
   "source": [
    "9//2"
   ]
  },
  {
   "cell_type": "code",
   "execution_count": 20,
   "metadata": {},
   "outputs": [
    {
     "data": {
      "text/plain": [
       "9"
      ]
     },
     "execution_count": 20,
     "metadata": {},
     "output_type": "execute_result"
    }
   ],
   "source": [
    "3**2"
   ]
  },
  {
   "cell_type": "code",
   "execution_count": 27,
   "metadata": {},
   "outputs": [
    {
     "data": {
      "text/plain": [
       "2617010996188399907017032528972038342491649416953000260240805955827972056685382434497090341496787032585738884786745286700473999847280664191731008874811751310888591786111994678208920175143911761181424495660877950654145066969036252669735483098936884016471326487403792787648506879212630637101259246005701084327338001"
      ]
     },
     "execution_count": 27,
     "metadata": {},
     "output_type": "execute_result"
    }
   ],
   "source": [
    "11**300"
   ]
  },
  {
   "cell_type": "code",
   "execution_count": 28,
   "metadata": {},
   "outputs": [
    {
     "ename": "OverflowError",
     "evalue": "(34, 'Result too large')",
     "output_type": "error",
     "traceback": [
      "\u001b[0;31m---------------------------------------------------------------------------\u001b[0m",
      "\u001b[0;31mOverflowError\u001b[0m                             Traceback (most recent call last)",
      "\u001b[0;32m<ipython-input-28-b61ab01789ad>\u001b[0m in \u001b[0;36m<module>\u001b[0;34m\u001b[0m\n\u001b[0;32m----> 1\u001b[0;31m \u001b[0;36m11.0\u001b[0m\u001b[0;34m**\u001b[0m\u001b[0;36m300\u001b[0m\u001b[0;34m\u001b[0m\u001b[0;34m\u001b[0m\u001b[0m\n\u001b[0m",
      "\u001b[0;31mOverflowError\u001b[0m: (34, 'Result too large')"
     ]
    }
   ],
   "source": [
    "11.0**300"
   ]
  },
  {
   "cell_type": "markdown",
   "metadata": {},
   "source": [
    "## İliskisel Operators"
   ]
  },
  {
   "cell_type": "markdown",
   "metadata": {},
   "source": [
    "| Symbol | Task Performed |\n",
    "|----|---|\n",
    "| == | True, if it is equal |\n",
    "| !=  | True, if not equal to |\n",
    "| < | less than |\n",
    "| > | greater than |\n",
    "| <=  | less than or equal to |\n",
    "| >=  | greater than or equal to |\n",
    "\n",
    "`==` (eşitlik testi) ve `=` (atama) arasındaki farka dikkat edin"
   ]
  },
  {
   "cell_type": "code",
   "execution_count": 29,
   "metadata": {},
   "outputs": [
    {
     "data": {
      "text/plain": [
       "True"
      ]
     },
     "execution_count": 29,
     "metadata": {},
     "output_type": "execute_result"
    }
   ],
   "source": [
    "z = 2\n",
    "z == 2"
   ]
  },
  {
   "cell_type": "code",
   "execution_count": 30,
   "metadata": {},
   "outputs": [
    {
     "data": {
      "text/plain": [
       "False"
      ]
     },
     "execution_count": 30,
     "metadata": {},
     "output_type": "execute_result"
    }
   ],
   "source": [
    "z > 2"
   ]
  },
  {
   "cell_type": "markdown",
   "metadata": {},
   "source": [
    "* Karşılaştırmalar matematiksel olarak açık bir şekilde zincirlenebilir. Python'da beklendiği gibi çalışacaktır:"
   ]
  },
  {
   "cell_type": "code",
   "execution_count": 31,
   "metadata": {},
   "outputs": [
    {
     "data": {
      "text/plain": [
       "False"
      ]
     },
     "execution_count": 31,
     "metadata": {},
     "output_type": "execute_result"
    }
   ],
   "source": [
    "0.5 < z <= 1"
   ]
  },
  {
   "cell_type": "markdown",
   "metadata": {},
   "source": [
    "# Built-in Functions"
   ]
  },
  {
   "cell_type": "markdown",
   "metadata": {},
   "source": [
    "* Python geniş bir işlev yelpazesi ile birlikte gelir. Bununla birlikte, bunların çoğu, yerleşik değil, `math` kütüphanesi gibi bağımsız kütüphanelerin parçasıdır."
   ]
  },
  {
   "cell_type": "markdown",
   "metadata": {},
   "source": [
    "## Değerleri dönüştürme\n",
    "\n",
    "Onaltılık değerden ondalık sayıya dönüştürme onaltılık değere **0x** öneki ekleyerek ya da tam tersi **hex ()**, Sekizlik ondalık sayıya ektal ekleyerek Sekizli değere ekleyerek yapılır. **oct ()** yerleşik işlevini kullanarak bunun tersini yapabilirsiniz."
   ]
  },
  {
   "cell_type": "code",
   "execution_count": 40,
   "metadata": {},
   "outputs": [
    {
     "data": {
      "text/plain": [
       "'0xaa'"
      ]
     },
     "execution_count": 40,
     "metadata": {},
     "output_type": "execute_result"
    }
   ],
   "source": [
    "hex(170)"
   ]
  },
  {
   "cell_type": "code",
   "execution_count": 36,
   "metadata": {},
   "outputs": [
    {
     "data": {
      "text/plain": [
       "'A'"
      ]
     },
     "execution_count": 36,
     "metadata": {},
     "output_type": "execute_result"
    }
   ],
   "source": [
    "chr(0x41)"
   ]
  },
  {
   "cell_type": "code",
   "execution_count": 4,
   "metadata": {},
   "outputs": [
    {
     "data": {
      "text/plain": [
       "'0o252'"
      ]
     },
     "execution_count": 4,
     "metadata": {},
     "output_type": "execute_result"
    }
   ],
   "source": [
    "oct(170)"
   ]
  },
  {
   "cell_type": "code",
   "execution_count": 44,
   "metadata": {},
   "outputs": [
    {
     "data": {
      "text/plain": [
       "7"
      ]
     },
     "execution_count": 44,
     "metadata": {},
     "output_type": "execute_result"
    }
   ],
   "source": [
    "int(7.0)"
   ]
  },
  {
   "cell_type": "code",
   "execution_count": 45,
   "metadata": {},
   "outputs": [
    {
     "data": {
      "text/plain": [
       "7.0"
      ]
     },
     "execution_count": 45,
     "metadata": {},
     "output_type": "execute_result"
    }
   ],
   "source": [
    "float(7)"
   ]
  },
  {
   "cell_type": "code",
   "execution_count": 46,
   "metadata": {},
   "outputs": [
    {
     "data": {
      "text/plain": [
       "'1234'"
      ]
     },
     "execution_count": 46,
     "metadata": {},
     "output_type": "execute_result"
    }
   ],
   "source": [
    "str(1234)"
   ]
  },
  {
   "cell_type": "markdown",
   "metadata": {},
   "source": [
    "## Matematiksel fonksiyonlar\n",
    "Matematiksel fonksiyonlar, logaritmalar, trigonometrik fonksiyonlar, $\\pi\\$ sabiti ve benzeri gibi olağan şüphelileri içerir."
   ]
  },
  {
   "cell_type": "code",
   "execution_count": 47,
   "metadata": {},
   "outputs": [
    {
     "data": {
      "text/plain": [
       "1.0"
      ]
     },
     "execution_count": 47,
     "metadata": {},
     "output_type": "execute_result"
    }
   ],
   "source": [
    "import math\n",
    "math.sin(math.pi/2)\n",
    "from math import * # avoid having to put a math. in front of every mathematical function\n",
    "sin(pi/2) # equivalent to the statement above"
   ]
  },
  {
   "cell_type": "markdown",
   "metadata": {},
   "source": [
    "## Diziler\n",
    "\n",
    "Pythonda dizeler bir veya birden çok elaman tutmak için kullanılır. "
   ]
  },
  {
   "cell_type": "markdown",
   "metadata": {},
   "source": [
    "* Listeler  / Lists\n",
    "* Tuplelar  / Tuples\n",
    "* Setler    / Sets\n",
    "* Sözlükler / Dictionaries "
   ]
  },
  {
   "cell_type": "markdown",
   "metadata": {},
   "source": [
    "### Lists"
   ]
  },
  {
   "cell_type": "markdown",
   "metadata": {},
   "source": [
    "* `list` kelimesi python tarafından daha önceden tanımlı olduğu için variable ismini seçerken dikkatli olmalıyız."
   ]
  },
  {
   "cell_type": "code",
   "execution_count": 46,
   "metadata": {},
   "outputs": [],
   "source": [
    "listA = [1,2,3,4,5,6]"
   ]
  },
  {
   "cell_type": "code",
   "execution_count": 47,
   "metadata": {},
   "outputs": [
    {
     "name": "stdout",
     "output_type": "stream",
     "text": [
      "1\n"
     ]
    }
   ],
   "source": [
    "print(listA[0])"
   ]
  },
  {
   "cell_type": "code",
   "execution_count": 48,
   "metadata": {},
   "outputs": [
    {
     "name": "stdout",
     "output_type": "stream",
     "text": [
      "6\n"
     ]
    }
   ],
   "source": [
    "print(listA[-1])"
   ]
  },
  {
   "cell_type": "code",
   "execution_count": 49,
   "metadata": {},
   "outputs": [],
   "source": [
    "listA[3] = 42"
   ]
  },
  {
   "cell_type": "code",
   "execution_count": 50,
   "metadata": {},
   "outputs": [
    {
     "name": "stdout",
     "output_type": "stream",
     "text": [
      "[1, 2, 3, 42, 5, 6]\n"
     ]
    }
   ],
   "source": [
    "print(listA)"
   ]
  },
  {
   "cell_type": "code",
   "execution_count": 51,
   "metadata": {},
   "outputs": [
    {
     "name": "stdout",
     "output_type": "stream",
     "text": [
      "6\n"
     ]
    }
   ],
   "source": [
    "print(len(listA))"
   ]
  },
  {
   "cell_type": "code",
   "execution_count": 52,
   "metadata": {},
   "outputs": [
    {
     "name": "stdout",
     "output_type": "stream",
     "text": [
      "[3, 42, 5, 6]\n"
     ]
    }
   ],
   "source": [
    "print(listA[2:6])"
   ]
  },
  {
   "cell_type": "code",
   "execution_count": 53,
   "metadata": {},
   "outputs": [
    {
     "data": {
      "text/plain": [
       "True"
      ]
     },
     "execution_count": 53,
     "metadata": {},
     "output_type": "execute_result"
    }
   ],
   "source": [
    "3 in listA"
   ]
  },
  {
   "cell_type": "markdown",
   "metadata": {},
   "source": [
    "* **Listeye eleman eklemek**"
   ]
  },
  {
   "cell_type": "markdown",
   "metadata": {},
   "source": [
    "> append"
   ]
  },
  {
   "cell_type": "code",
   "execution_count": 54,
   "metadata": {},
   "outputs": [
    {
     "name": "stdout",
     "output_type": "stream",
     "text": [
      "[1, 2, 3, 42, 5, 6, 'Mai']\n"
     ]
    }
   ],
   "source": [
    "listA.append(\"Mai\")\n",
    "print(listA)"
   ]
  },
  {
   "cell_type": "markdown",
   "metadata": {},
   "source": [
    "> insert"
   ]
  },
  {
   "cell_type": "code",
   "execution_count": 55,
   "metadata": {},
   "outputs": [
    {
     "name": "stdout",
     "output_type": "stream",
     "text": [
      "[1, 2, 'AI', 3, 42, 5, 6, 'Mai']\n"
     ]
    }
   ],
   "source": [
    "listA.insert(2,\"AI\")\n",
    "print(listA)"
   ]
  },
  {
   "cell_type": "markdown",
   "metadata": {},
   "source": [
    "> remove"
   ]
  },
  {
   "cell_type": "code",
   "execution_count": 56,
   "metadata": {},
   "outputs": [
    {
     "name": "stdout",
     "output_type": "stream",
     "text": [
      "[1, 2, 3, 42, 5, 6, 'Mai']\n"
     ]
    }
   ],
   "source": [
    "listA.remove('AI')\n",
    "print(listA)"
   ]
  },
  {
   "cell_type": "code",
   "execution_count": 57,
   "metadata": {},
   "outputs": [
    {
     "name": "stdout",
     "output_type": "stream",
     "text": [
      "[1, 2, 3, 42, 6, 'Mai']\n"
     ]
    }
   ],
   "source": [
    "del listA[4]\n",
    "print(listA)"
   ]
  },
  {
   "cell_type": "markdown",
   "metadata": {},
   "source": [
    "> pop"
   ]
  },
  {
   "cell_type": "code",
   "execution_count": 58,
   "metadata": {},
   "outputs": [
    {
     "name": "stdout",
     "output_type": "stream",
     "text": [
      "[1, 2, 3, 42, 6]\n"
     ]
    }
   ],
   "source": [
    "listA.pop()\n",
    "print(listA)"
   ]
  },
  {
   "cell_type": "markdown",
   "metadata": {},
   "source": [
    "> clear"
   ]
  },
  {
   "cell_type": "code",
   "execution_count": 59,
   "metadata": {},
   "outputs": [
    {
     "name": "stdout",
     "output_type": "stream",
     "text": [
      "[]\n"
     ]
    }
   ],
   "source": [
    "listA.clear()\n",
    "print(listA)"
   ]
  },
  {
   "cell_type": "markdown",
   "metadata": {},
   "source": [
    "* **Liste kopyalama ve referans kavramı**"
   ]
  },
  {
   "cell_type": "code",
   "execution_count": 73,
   "metadata": {},
   "outputs": [
    {
     "name": "stdout",
     "output_type": "stream",
     "text": [
      "listA  [1, 1, 1, 1, 1]\n",
      "ListB  [1, 1, 1, 1, 1]\n"
     ]
    }
   ],
   "source": [
    "listA = [1,1,1,1,1]\n",
    "listB = listA\n",
    "print(\"listA \", listA)\n",
    "print(\"ListB \", listB)"
   ]
  },
  {
   "cell_type": "code",
   "execution_count": 74,
   "metadata": {},
   "outputs": [
    {
     "name": "stdout",
     "output_type": "stream",
     "text": [
      "[1, 1, 1, 1, 1, 9]\n"
     ]
    }
   ],
   "source": [
    "listA.append(9)\n",
    "print(listA)"
   ]
  },
  {
   "cell_type": "code",
   "execution_count": 75,
   "metadata": {},
   "outputs": [
    {
     "name": "stdout",
     "output_type": "stream",
     "text": [
      "[1, 1, 1, 1, 1, 9]\n"
     ]
    }
   ],
   "source": [
    "print(listB)"
   ]
  },
  {
   "cell_type": "markdown",
   "metadata": {},
   "source": [
    "> `=` operatörü kullanarak `listB`'yi aslında `listA`'nın bellekteki adresine referans olarak göstermiş olduk. Diğer bir değişle yeni bir liste oluşturmak yerine bellekte hali hazırda bulunan listeyi kullandık. Bu yüzden `listA` üzerinde yaptığımız tüm değişiklikler `listB`'yi direkt etkiledi. Yeni bir liste oluşturmak istiyorsak `copy()` methodunu kullanmamız gerekiyor."
   ]
  },
  {
   "cell_type": "code",
   "execution_count": 76,
   "metadata": {},
   "outputs": [
    {
     "name": "stdout",
     "output_type": "stream",
     "text": [
      "[1, 1, 1, 1, 1, 9]\n",
      "[1, 1, 1, 1, 1, 9]\n"
     ]
    }
   ],
   "source": [
    "listC = listA.copy()\n",
    "print(listA)\n",
    "print(listC)"
   ]
  },
  {
   "cell_type": "code",
   "execution_count": 77,
   "metadata": {},
   "outputs": [
    {
     "name": "stdout",
     "output_type": "stream",
     "text": [
      "listA  [1, 1, 1, 1, 1, 9, 8]\n",
      "listB  [1, 1, 1, 1, 1, 9, 8]\n",
      "listC  [1, 1, 1, 1, 1, 9]\n"
     ]
    }
   ],
   "source": [
    "listA.append(8)\n",
    "print(\"listA \",listA)\n",
    "print(\"listB \",listB)\n",
    "print(\"listC \", listC)"
   ]
  },
  {
   "cell_type": "markdown",
   "metadata": {},
   "source": [
    "> Liste kopyalamanın bir başka yolu ise `list()` consturctor'ını kullanmaktır."
   ]
  },
  {
   "cell_type": "code",
   "execution_count": 78,
   "metadata": {},
   "outputs": [
    {
     "name": "stdout",
     "output_type": "stream",
     "text": [
      "listA  [1, 1, 1, 1, 1, 9, 8]\n",
      "after insert\n",
      "listA  [1, 1, 'mai', 1, 1, 1, 9, 8]\n",
      "listD  [1, 1, 1, 1, 1, 9, 8]\n"
     ]
    }
   ],
   "source": [
    "listD = list(listA)\n",
    "print('listA ',listA)\n",
    "listA.insert(2,\"mai\")\n",
    "print(\"after insert\")\n",
    "print('listA ',listA)\n",
    "print('listD ',listD)"
   ]
  },
  {
   "cell_type": "markdown",
   "metadata": {},
   "source": [
    "* **2 listeyi birleştirmek**"
   ]
  },
  {
   "cell_type": "markdown",
   "metadata": {},
   "source": [
    "> Listeleri birleştirmek için birden fazla yöntem kullanabiliriz. Bunlardan 2 tanesi `+` operatörü ve `extend()` methodu."
   ]
  },
  {
   "cell_type": "code",
   "execution_count": 79,
   "metadata": {},
   "outputs": [
    {
     "name": "stdout",
     "output_type": "stream",
     "text": [
      "listA  [1, 1, 'mai', 1, 1, 1, 9, 8]\n",
      "listB  [1, 1, 'mai', 1, 1, 1, 9, 8]\n",
      "listA ve listB'nin biresimi [1, 1, 'mai', 1, 1, 1, 9, 8, 1, 1, 'mai', 1, 1, 1, 9, 8]\n"
     ]
    }
   ],
   "source": [
    "print('listA ',listA)\n",
    "print('listB ',listB)\n",
    "listA_B = listA + listB\n",
    "print(\"listA ve listB'nin biresimi\",listA_B)"
   ]
  },
  {
   "cell_type": "code",
   "execution_count": 80,
   "metadata": {},
   "outputs": [
    {
     "name": "stdout",
     "output_type": "stream",
     "text": [
      "listC  [1, 1, 1, 1, 1, 9]\n",
      "listD  [1, 1, 1, 1, 1, 9, 8]\n",
      "listC  [1, 1, 1, 1, 1, 9, 1, 1, 1, 1, 1, 9, 8]\n"
     ]
    }
   ],
   "source": [
    "print('listC ',listC)\n",
    "print('listD ',listD)\n",
    "listC.extend(listD)\n",
    "print('listC ',listC)"
   ]
  },
  {
   "cell_type": "code",
   "execution_count": 81,
   "metadata": {},
   "outputs": [],
   "source": [
    "del listA,listB,listC,listD"
   ]
  },
  {
   "cell_type": "markdown",
   "metadata": {},
   "source": [
    "* **Sort ve Reverse**"
   ]
  },
  {
   "cell_type": "markdown",
   "metadata": {},
   "source": [
    "> **Sort** \\\n",
    "Listeleri sıralamak için birçok algoritma bulunmakta. `sort()` metotu `TimSort` algoritmasını kullanmakta. `TimSort` algoritması `merge` ve `insertion` sort algoritmalarının birleşimi olarak düşünülebilir."
   ]
  },
  {
   "cell_type": "code",
   "execution_count": 95,
   "metadata": {},
   "outputs": [],
   "source": [
    "listA = [\"v\",\"r\",\"n\",1,7,4,9,\"a\"]"
   ]
  },
  {
   "cell_type": "code",
   "execution_count": 96,
   "metadata": {},
   "outputs": [
    {
     "ename": "TypeError",
     "evalue": "'<' not supported between instances of 'int' and 'str'",
     "output_type": "error",
     "traceback": [
      "\u001b[0;31m---------------------------------------------------------------------------\u001b[0m",
      "\u001b[0;31mTypeError\u001b[0m                                 Traceback (most recent call last)",
      "\u001b[0;32m<ipython-input-96-5f3d26336545>\u001b[0m in \u001b[0;36m<module>\u001b[0;34m\u001b[0m\n\u001b[0;32m----> 1\u001b[0;31m \u001b[0msortedList\u001b[0m \u001b[0;34m=\u001b[0m \u001b[0mlistA\u001b[0m\u001b[0;34m.\u001b[0m\u001b[0msort\u001b[0m\u001b[0;34m(\u001b[0m\u001b[0;34m)\u001b[0m\u001b[0;34m\u001b[0m\u001b[0;34m\u001b[0m\u001b[0m\n\u001b[0m",
      "\u001b[0;31mTypeError\u001b[0m: '<' not supported between instances of 'int' and 'str'"
     ]
    }
   ],
   "source": [
    "sortedList = listA.sort()"
   ]
  },
  {
   "cell_type": "markdown",
   "metadata": {},
   "source": [
    "> Sıralama yaparken bir `string` ile `intiger` arasında kıyaslama yapılamayacağı için Python bize `TypeError` döndürmekte. Bunu gidermek için listeyi tek bir veri tipine dönüştürebiliriz."
   ]
  },
  {
   "cell_type": "code",
   "execution_count": 113,
   "metadata": {},
   "outputs": [],
   "source": [
    "listA = [\"v\",\"r\",\"n\",\"1\",\"7\",\"4\",\"9\",\"a\"]"
   ]
  },
  {
   "cell_type": "code",
   "execution_count": 118,
   "metadata": {},
   "outputs": [],
   "source": [
    "listA.sort()"
   ]
  },
  {
   "cell_type": "code",
   "execution_count": 119,
   "metadata": {},
   "outputs": [
    {
     "name": "stdout",
     "output_type": "stream",
     "text": [
      "['1', '4', '7', '9', 'a', 'n', 'r', 'v']\n"
     ]
    }
   ],
   "source": [
    "print(listA)"
   ]
  },
  {
   "cell_type": "markdown",
   "metadata": {},
   "source": [
    "> **Reverse**"
   ]
  },
  {
   "cell_type": "code",
   "execution_count": 120,
   "metadata": {},
   "outputs": [],
   "source": [
    "listA.reverse()"
   ]
  },
  {
   "cell_type": "code",
   "execution_count": 122,
   "metadata": {},
   "outputs": [
    {
     "name": "stdout",
     "output_type": "stream",
     "text": [
      "['v', 'r', 'n', 'a', '9', '7', '4', '1']\n"
     ]
    }
   ],
   "source": [
    "print(listA)"
   ]
  },
  {
   "cell_type": "markdown",
   "metadata": {},
   "source": [
    "### Tuples"
   ]
  },
  {
   "cell_type": "markdown",
   "metadata": {},
   "source": [
    "* `tuple` kelimesi `Python` tarafından daha önceden tanımlı olduğu için `list` gibi variable isimi seçerken dikkatli olmalıyız. **Tuplelar listeler gibi değiştirilebilen objeler değildir.**"
   ]
  },
  {
   "cell_type": "code",
   "execution_count": 1,
   "metadata": {},
   "outputs": [
    {
     "name": "stdout",
     "output_type": "stream",
     "text": [
      "tupA  (1, 2, 5, 6, 8)\n",
      "type of tupA is  <class 'tuple'>\n"
     ]
    }
   ],
   "source": [
    "tupA = (1,2,5,6,8)\n",
    "print(\"tupA \",tupA)\n",
    "print(\"type of tupA is \",type(tupA))"
   ]
  },
  {
   "cell_type": "code",
   "execution_count": 7,
   "metadata": {},
   "outputs": [
    {
     "name": "stdout",
     "output_type": "stream",
     "text": [
      "second index  5\n",
      "fourth index  8\n",
      "last item  8\n",
      "second item form end  6\n"
     ]
    }
   ],
   "source": [
    "print(\"second index \",tupA[2])\n",
    "print(\"fourth index \",tupA[4])\n",
    "print(\"last item \",tupA[-1])\n",
    "print(\"second item form end \",tupA[-2])"
   ]
  },
  {
   "cell_type": "code",
   "execution_count": 12,
   "metadata": {},
   "outputs": [
    {
     "name": "stdout",
     "output_type": "stream",
     "text": [
      "(5, 6, 8)\n",
      "(1, 2, 5)\n"
     ]
    }
   ],
   "source": [
    "print(tupA[2:5])\n",
    "print(tupA[-5:-2])"
   ]
  },
  {
   "cell_type": "code",
   "execution_count": 13,
   "metadata": {},
   "outputs": [
    {
     "ename": "TypeError",
     "evalue": "'tuple' object does not support item assignment",
     "output_type": "error",
     "traceback": [
      "\u001b[0;31m---------------------------------------------------------------------------\u001b[0m",
      "\u001b[0;31mTypeError\u001b[0m                                 Traceback (most recent call last)",
      "\u001b[0;32m<ipython-input-13-9222778f7b95>\u001b[0m in \u001b[0;36m<module>\u001b[0;34m\u001b[0m\n\u001b[0;32m----> 1\u001b[0;31m \u001b[0mtupA\u001b[0m\u001b[0;34m[\u001b[0m\u001b[0;36m1\u001b[0m\u001b[0;34m]\u001b[0m \u001b[0;34m=\u001b[0m \u001b[0;36m7\u001b[0m\u001b[0;34m\u001b[0m\u001b[0;34m\u001b[0m\u001b[0m\n\u001b[0m",
      "\u001b[0;31mTypeError\u001b[0m: 'tuple' object does not support item assignment"
     ]
    }
   ],
   "source": [
    "tupA[1] = 7"
   ]
  },
  {
   "cell_type": "markdown",
   "metadata": {},
   "source": [
    "> Gördüğünüz gibi Tuple objesi bir kere yaratıldığında içindeki elemanları değiştiremiyoruz. Bunun yerine tuple objesini listeye çevirip düzenleyebilirsiniz."
   ]
  },
  {
   "cell_type": "code",
   "execution_count": 14,
   "metadata": {},
   "outputs": [
    {
     "data": {
      "text/plain": [
       "True"
      ]
     },
     "execution_count": 14,
     "metadata": {},
     "output_type": "execute_result"
    }
   ],
   "source": [
    "6 in tupA"
   ]
  },
  {
   "cell_type": "code",
   "execution_count": 15,
   "metadata": {},
   "outputs": [
    {
     "data": {
      "text/plain": [
       "True"
      ]
     },
     "execution_count": 15,
     "metadata": {},
     "output_type": "execute_result"
    }
   ],
   "source": [
    "8 in tupA"
   ]
  },
  {
   "cell_type": "markdown",
   "metadata": {},
   "source": [
    "* 1 elemanlı `tuple` oluşturmak"
   ]
  },
  {
   "cell_type": "code",
   "execution_count": 16,
   "metadata": {},
   "outputs": [],
   "source": [
    "tupB = (\"mai\")\n",
    "tupC = (\"mai\",)"
   ]
  },
  {
   "cell_type": "markdown",
   "metadata": {},
   "source": [
    "> Yukarıda gözüken atamalar aynı gibi gözükse de arasında bir fark var !"
   ]
  },
  {
   "cell_type": "code",
   "execution_count": 18,
   "metadata": {},
   "outputs": [
    {
     "name": "stdout",
     "output_type": "stream",
     "text": [
      "type of tupB <class 'str'>\n",
      "type of tupC <class 'tuple'>\n"
     ]
    }
   ],
   "source": [
    "print(\"type of tupB\",type(tupB))\n",
    "print(\"type of tupC\",type(tupC))"
   ]
  },
  {
   "cell_type": "code",
   "execution_count": 19,
   "metadata": {},
   "outputs": [],
   "source": [
    "del tupA, tupB, tupC"
   ]
  },
  {
   "cell_type": "markdown",
   "metadata": {},
   "source": [
    "* **2 Tuple'ı birleştirmek**"
   ]
  },
  {
   "cell_type": "code",
   "execution_count": 30,
   "metadata": {},
   "outputs": [
    {
     "name": "stdout",
     "output_type": "stream",
     "text": [
      "tup1  (0, 0, 0, 0)\n",
      "tup2  (1, 1, 1, 1)\n",
      "toplamTup  (0, 0, 0, 0, 1, 1, 1, 1)\n"
     ]
    }
   ],
   "source": [
    "tup1 = (0,0,0,0)\n",
    "tup2 = (1,1,1,1)\n",
    "\n",
    "toplamTup = tup1 + tup2 \n",
    "print(\"tup1 \",tup1)\n",
    "print(\"tup2 \",tup2)\n",
    "print(\"toplamTup \",toplamTup)"
   ]
  },
  {
   "cell_type": "markdown",
   "metadata": {},
   "source": [
    "* **Built-in Tupple metotları**"
   ]
  },
  {
   "cell_type": "markdown",
   "metadata": {},
   "source": [
    "> `count()`"
   ]
  },
  {
   "cell_type": "code",
   "execution_count": 24,
   "metadata": {},
   "outputs": [
    {
     "name": "stdout",
     "output_type": "stream",
     "text": [
      "number of 0's in tup1 4\n",
      "number of 1's in tup1 0\n"
     ]
    }
   ],
   "source": [
    "print(\"number of 0's in tup1\",tup1.count(0))\n",
    "print(\"number of 1's in tup1\",tup1.count(1))"
   ]
  },
  {
   "cell_type": "markdown",
   "metadata": {},
   "source": [
    "> `index()`"
   ]
  },
  {
   "cell_type": "code",
   "execution_count": 29,
   "metadata": {},
   "outputs": [
    {
     "name": "stdout",
     "output_type": "stream",
     "text": [
      "(0, 0, 0, 0)\n",
      "index of 0 in tup1 0\n"
     ]
    }
   ],
   "source": [
    "print(tup1)\n",
    "print(\"index of 0 in tup1\",tup1.index(0))"
   ]
  },
  {
   "cell_type": "markdown",
   "metadata": {},
   "source": [
    "> `tuple()` consturctor'u "
   ]
  },
  {
   "cell_type": "code",
   "execution_count": 1,
   "metadata": {},
   "outputs": [],
   "source": [
    "tup2 = tuple((0,1,0,1,0,0,1)) # iç kısımda bulunan () işaretini unutmayın!"
   ]
  },
  {
   "cell_type": "code",
   "execution_count": 2,
   "metadata": {},
   "outputs": [
    {
     "name": "stdout",
     "output_type": "stream",
     "text": [
      "(0, 1, 0, 1, 0, 0, 1)\n"
     ]
    }
   ],
   "source": [
    "print(tup2)"
   ]
  },
  {
   "cell_type": "code",
   "execution_count": 3,
   "metadata": {},
   "outputs": [
    {
     "name": "stdout",
     "output_type": "stream",
     "text": [
      "7\n"
     ]
    }
   ],
   "source": [
    "print(len(tup2))"
   ]
  },
  {
   "cell_type": "markdown",
   "metadata": {},
   "source": [
    "### Sets"
   ]
  },
  {
   "cell_type": "markdown",
   "metadata": {},
   "source": [
    "* Setler, aynı zamanda kümeler, sırasız ve indekssiz bir koleksiyondur. Python'da kümeler süslü parantez (`{}`) içinde yazılır. `set` kelimesi `Python` tarafından daha önceden tanımlı olduğu için `list` ve `tuple` gibi variable isimi seçerken dikkatli olmalıyız. Ayrıca `set` objesi tüm tekrarlanan elementleri 1 elemente düşürür."
   ]
  },
  {
   "cell_type": "code",
   "execution_count": 4,
   "metadata": {},
   "outputs": [],
   "source": [
    "setA = {\"car\",\"truck\",\"bus\",\"tramway\"}"
   ]
  },
  {
   "cell_type": "code",
   "execution_count": 5,
   "metadata": {},
   "outputs": [
    {
     "name": "stdout",
     "output_type": "stream",
     "text": [
      "setA  {'bus', 'truck', 'tramway', 'car'}\n",
      "type of setA  <class 'set'>\n"
     ]
    }
   ],
   "source": [
    "print(\"setA \",setA)\n",
    "print(\"type of setA \", type(setA))"
   ]
  },
  {
   "cell_type": "code",
   "execution_count": 6,
   "metadata": {},
   "outputs": [
    {
     "ename": "TypeError",
     "evalue": "'set' object is not subscriptable",
     "output_type": "error",
     "traceback": [
      "\u001b[0;31m---------------------------------------------------------------------------\u001b[0m",
      "\u001b[0;31mTypeError\u001b[0m                                 Traceback (most recent call last)",
      "\u001b[0;32m<ipython-input-6-b9572641b4ed>\u001b[0m in \u001b[0;36m<module>\u001b[0;34m\u001b[0m\n\u001b[0;32m----> 1\u001b[0;31m \u001b[0msetA\u001b[0m\u001b[0;34m[\u001b[0m\u001b[0;36m0\u001b[0m\u001b[0;34m]\u001b[0m\u001b[0;34m\u001b[0m\u001b[0;34m\u001b[0m\u001b[0m\n\u001b[0m",
      "\u001b[0;31mTypeError\u001b[0m: 'set' object is not subscriptable"
     ]
    }
   ],
   "source": [
    "setA[0]"
   ]
  },
  {
   "cell_type": "markdown",
   "metadata": {},
   "source": [
    "> Gördüğünüz gibi `set` objesinde index olmadığı için `list` ve `tuple` objelerinde yaptığımız gibi bir indexleme yapamıyoruz."
   ]
  },
  {
   "cell_type": "code",
   "execution_count": 7,
   "metadata": {},
   "outputs": [
    {
     "data": {
      "text/plain": [
       "True"
      ]
     },
     "execution_count": 7,
     "metadata": {},
     "output_type": "execute_result"
    }
   ],
   "source": [
    "\"car\" in setA"
   ]
  },
  {
   "cell_type": "code",
   "execution_count": 8,
   "metadata": {},
   "outputs": [
    {
     "data": {
      "text/plain": [
       "False"
      ]
     },
     "execution_count": 8,
     "metadata": {},
     "output_type": "execute_result"
    }
   ],
   "source": [
    "\"banana\" in setA"
   ]
  },
  {
   "cell_type": "code",
   "execution_count": 9,
   "metadata": {},
   "outputs": [
    {
     "data": {
      "text/plain": [
       "False"
      ]
     },
     "execution_count": 9,
     "metadata": {},
     "output_type": "execute_result"
    }
   ],
   "source": [
    "9 in setA"
   ]
  },
  {
   "cell_type": "code",
   "execution_count": 30,
   "metadata": {},
   "outputs": [
    {
     "name": "stdout",
     "output_type": "stream",
     "text": [
      "{0, 1}\n"
     ]
    }
   ],
   "source": [
    "setB = {1,1,1,1,1,1,1,1,1,1,0,0}\n",
    "print(setB)"
   ]
  },
  {
   "cell_type": "markdown",
   "metadata": {},
   "source": [
    "* `add()` ve `update()` fonksiyonları"
   ]
  },
  {
   "cell_type": "code",
   "execution_count": 10,
   "metadata": {},
   "outputs": [
    {
     "name": "stdout",
     "output_type": "stream",
     "text": [
      "{'metro', 'car', 'truck', 'bus', 'tramway'}\n"
     ]
    }
   ],
   "source": [
    "# add() fonksiyonu set'e yeni bir eleman eklemek icin kullanilir\n",
    "setA.add(\"metro\")\n",
    "print(setA)"
   ]
  },
  {
   "cell_type": "code",
   "execution_count": 11,
   "metadata": {},
   "outputs": [
    {
     "ename": "TypeError",
     "evalue": "add() takes exactly one argument (2 given)",
     "output_type": "error",
     "traceback": [
      "\u001b[0;31m---------------------------------------------------------------------------\u001b[0m",
      "\u001b[0;31mTypeError\u001b[0m                                 Traceback (most recent call last)",
      "\u001b[0;32m<ipython-input-11-95345d2f9946>\u001b[0m in \u001b[0;36m<module>\u001b[0;34m\u001b[0m\n\u001b[0;32m----> 1\u001b[0;31m \u001b[0msetA\u001b[0m\u001b[0;34m.\u001b[0m\u001b[0madd\u001b[0m\u001b[0;34m(\u001b[0m\u001b[0;34m\"metro\"\u001b[0m\u001b[0;34m,\u001b[0m\u001b[0;34m\"plane\"\u001b[0m\u001b[0;34m)\u001b[0m\u001b[0;34m\u001b[0m\u001b[0;34m\u001b[0m\u001b[0m\n\u001b[0m",
      "\u001b[0;31mTypeError\u001b[0m: add() takes exactly one argument (2 given)"
     ]
    }
   ],
   "source": [
    "setA.add(\"metro\",\"plane\")"
   ]
  },
  {
   "cell_type": "markdown",
   "metadata": {},
   "source": [
    "> Setlere birden fazla eleman eklemek için `update()` fonksiyonu kullanılır."
   ]
  },
  {
   "cell_type": "code",
   "execution_count": 12,
   "metadata": {},
   "outputs": [
    {
     "name": "stdout",
     "output_type": "stream",
     "text": [
      "{'metro', 'car', 'truck', 'bus', 'helicopter', 'plane', 'tramway'}\n"
     ]
    }
   ],
   "source": [
    "setA.update([\"plane\",\"helicopter\"])\n",
    "print(setA)"
   ]
  },
  {
   "cell_type": "markdown",
   "metadata": {},
   "source": [
    "* `remove()`, `discard()` ve `pop()` fonksiyonları"
   ]
  },
  {
   "cell_type": "markdown",
   "metadata": {},
   "source": [
    "> herhangi bir elemanı setten çıkarmak için `remove()` foksiyonu kullanılır."
   ]
  },
  {
   "cell_type": "code",
   "execution_count": 13,
   "metadata": {},
   "outputs": [
    {
     "name": "stdout",
     "output_type": "stream",
     "text": [
      "{'metro', 'car', 'truck', 'helicopter', 'plane', 'tramway'}\n"
     ]
    }
   ],
   "source": [
    "setA.remove(\"bus\")\n",
    "print(setA)"
   ]
  },
  {
   "cell_type": "markdown",
   "metadata": {},
   "source": [
    "> `discard()` fonksiyonu kullanarak da seti manipüle edebiliriz."
   ]
  },
  {
   "cell_type": "code",
   "execution_count": 14,
   "metadata": {},
   "outputs": [
    {
     "name": "stdout",
     "output_type": "stream",
     "text": [
      "{'metro', 'truck', 'helicopter', 'plane', 'tramway'}\n"
     ]
    }
   ],
   "source": [
    "setA.discard(\"car\")\n",
    "print(setA)"
   ]
  },
  {
   "cell_type": "markdown",
   "metadata": {},
   "source": [
    "> **`discard()` ve `remove()` arasındaki fark ise `remove()` foksiyonu çıkarılmak istenilen eleman sette bulunmmuyorsa bize hata _döndürecektir_. `discard()` fonksiyonu aksine bize herhangi bir hata _döndürmeyecektir_.**"
   ]
  },
  {
   "cell_type": "code",
   "execution_count": 19,
   "metadata": {},
   "outputs": [
    {
     "name": "stdout",
     "output_type": "stream",
     "text": [
      "is car in setA ? => False\n"
     ]
    },
    {
     "ename": "KeyError",
     "evalue": "'car'",
     "output_type": "error",
     "traceback": [
      "\u001b[0;31m---------------------------------------------------------------------------\u001b[0m",
      "\u001b[0;31mKeyError\u001b[0m                                  Traceback (most recent call last)",
      "\u001b[0;32m<ipython-input-19-a5e32f129346>\u001b[0m in \u001b[0;36m<module>\u001b[0;34m\u001b[0m\n\u001b[1;32m      1\u001b[0m \u001b[0mprint\u001b[0m\u001b[0;34m(\u001b[0m\u001b[0;34m\"is car in setA ? =>\"\u001b[0m\u001b[0;34m,\u001b[0m\u001b[0;34m\"car\"\u001b[0m \u001b[0;32min\u001b[0m \u001b[0msetA\u001b[0m\u001b[0;34m)\u001b[0m\u001b[0;34m\u001b[0m\u001b[0;34m\u001b[0m\u001b[0m\n\u001b[0;32m----> 2\u001b[0;31m \u001b[0msetA\u001b[0m\u001b[0;34m.\u001b[0m\u001b[0mremove\u001b[0m\u001b[0;34m(\u001b[0m\u001b[0;34m\"car\"\u001b[0m\u001b[0;34m)\u001b[0m\u001b[0;34m\u001b[0m\u001b[0;34m\u001b[0m\u001b[0m\n\u001b[0m",
      "\u001b[0;31mKeyError\u001b[0m: 'car'"
     ]
    }
   ],
   "source": [
    "print(\"is car in setA ? =>\",\"car\" in setA)\n",
    "setA.remove(\"car\")"
   ]
  },
  {
   "cell_type": "code",
   "execution_count": 17,
   "metadata": {},
   "outputs": [
    {
     "name": "stdout",
     "output_type": "stream",
     "text": [
      "is car in setA ? => False\n"
     ]
    }
   ],
   "source": [
    "print(\"is car in setA ? =>\",\"car\" in setA)\n",
    "setA.discard(\"car\")"
   ]
  },
  {
   "cell_type": "markdown",
   "metadata": {},
   "source": [
    "> `pop()` fonksiyonu setin son elemanını setten çıkartır ve bize geri döndürür. Fakat setlerde bir sıra olmadığı için hangi elemanın çıkarılacağı kontrol edilmedikçe bilinmeyecektir."
   ]
  },
  {
   "cell_type": "code",
   "execution_count": 20,
   "metadata": {},
   "outputs": [
    {
     "name": "stdout",
     "output_type": "stream",
     "text": [
      "before pop() setA= {'metro', 'truck', 'helicopter', 'plane', 'tramway'}\n",
      "after pop() setA= {'truck', 'helicopter', 'plane', 'tramway'}\n",
      "removed item is  metro\n"
     ]
    }
   ],
   "source": [
    "print(\"before pop() setA=\",setA)\n",
    "removed_item = setA.pop()\n",
    "print(\"after pop() setA=\",setA)\n",
    "print(\"removed item is \",removed_item)"
   ]
  },
  {
   "cell_type": "markdown",
   "metadata": {},
   "source": [
    "> `clear()` fonksiyonu setin tüm elemanlarını temizlemeye yarıyor."
   ]
  },
  {
   "cell_type": "code",
   "execution_count": 21,
   "metadata": {},
   "outputs": [
    {
     "name": "stdout",
     "output_type": "stream",
     "text": [
      "before clear() setA= {'truck', 'helicopter', 'plane', 'tramway'}\n",
      "after clear() setA= set()\n"
     ]
    }
   ],
   "source": [
    "print(\"before clear() setA=\",setA)\n",
    "setA.clear()\n",
    "print(\"after clear() setA=\",setA)"
   ]
  },
  {
   "cell_type": "markdown",
   "metadata": {},
   "source": [
    "> `del` anahtar kelimesi ile tüm seti silebiliriz"
   ]
  },
  {
   "cell_type": "code",
   "execution_count": 22,
   "metadata": {},
   "outputs": [],
   "source": [
    "del setA"
   ]
  },
  {
   "cell_type": "markdown",
   "metadata": {},
   "source": [
    "* **2 Set'i birleştirmek**"
   ]
  },
  {
   "cell_type": "markdown",
   "metadata": {},
   "source": [
    "* `union()` ve `update()` fonksiyonları ile 2 seti birleştirebiliriz. Her iki setteki tüm öğeleri içeren yeni bir küme döndüren `union()` yöntemini veya tüm öğeleri bir kümeden diğerine ekleyen `update()` yöntemini kullanabiliriz."
   ]
  },
  {
   "cell_type": "code",
   "execution_count": 28,
   "metadata": {},
   "outputs": [
    {
     "name": "stdout",
     "output_type": "stream",
     "text": [
      "set1  {'4', 2, 3, '5'}\n",
      "set2  {'9', '8', 6, 7}\n",
      "newSet  {2, 3, '5', 6, 7, '8', '9', '4'}\n"
     ]
    }
   ],
   "source": [
    "set1 = {2,3,\"4\",\"5\"}\n",
    "set2 = {6,7,\"8\",\"9\"}\n",
    "\n",
    "newSet = set1.union(set2) # Set2'yi set1'e eklemek yerine yeni bir obje olusturduk.\n",
    "\n",
    "print(\"set1 \",set1)\n",
    "print(\"set2 \",set2)\n",
    "print(\"newSet \",newSet)"
   ]
  },
  {
   "cell_type": "code",
   "execution_count": 29,
   "metadata": {},
   "outputs": [
    {
     "name": "stdout",
     "output_type": "stream",
     "text": [
      "before update\n",
      "set1  {'4', 2, 3, '5'}\n",
      "set2  {'9', '8', 6, 7}\n",
      "\n",
      "\n",
      "after update\n",
      "set1  {2, 3, '5', 6, 7, '8', '9', '4'}\n",
      "set2  {'9', '8', 6, 7}\n"
     ]
    }
   ],
   "source": [
    "print(\"before update\")\n",
    "print(\"set1 \",set1)\n",
    "print(\"set2 \",set2)\n",
    "print(\"\\n\")\n",
    "set1.update(set2) # set1 objesini direk degistirdik. Yeni bir obje yaratmadik.\n",
    "print(\"after update\")\n",
    "print(\"set1 \",set1)\n",
    "print(\"set2 \",set2)"
   ]
  },
  {
   "cell_type": "markdown",
   "metadata": {},
   "source": [
    "> `set()` consturctor'u "
   ]
  },
  {
   "cell_type": "code",
   "execution_count": 32,
   "metadata": {},
   "outputs": [
    {
     "name": "stdout",
     "output_type": "stream",
     "text": [
      "setC  {1, 2, 3, 4, 5, 6, 7}\n",
      "type of setC  <class 'set'>\n"
     ]
    }
   ],
   "source": [
    "setC = set((1,2,3,4,1,2,1,5,2,7,2,6))\n",
    "print(\"setC \",setC)\n",
    "print(\"type of setC \",type(setC))"
   ]
  },
  {
   "cell_type": "markdown",
   "metadata": {},
   "source": [
    "### Dictionaries"
   ]
  },
  {
   "cell_type": "markdown",
   "metadata": {},
   "source": [
    "* `Dictionary`, sıralanmamış, değişken ve indeksli bir koleksiyondur. Python'da sözlükler süslü parantezler içinde yazılmıştır ve `anahtar ve değerlere` (`key, value`) sahiptir. `dict` kelimesi `Python` tarafından daha önceden tanımlı olduğu için `list`, `tuple` ve `set` gibi variable isimi seçerken dikkatli olmalıyız."
   ]
  },
  {
   "cell_type": "code",
   "execution_count": 14,
   "metadata": {},
   "outputs": [
    {
     "name": "stdout",
     "output_type": "stream",
     "text": [
      "{'brand': 'Ford', 'model': 'Mustang', 'year': 1964}\n"
     ]
    }
   ],
   "source": [
    "car1={\n",
    "    \"brand\": \"Ford\",\n",
    "    \"model\": \"Mustang\",\n",
    "    \"year\": 1964\n",
    "}\n",
    "    \n",
    "print(car1)"
   ]
  },
  {
   "cell_type": "markdown",
   "metadata": {},
   "source": [
    "> Dictionary değerlerine indeksleme (`[]`) veya `get()` metotu ile ulaşabiliriz. Aynı zamanda değeri indeksleme yöntemi ile (`[]`) değiştirebiliriz. "
   ]
  },
  {
   "cell_type": "code",
   "execution_count": 15,
   "metadata": {},
   "outputs": [
    {
     "data": {
      "text/plain": [
       "'Ford'"
      ]
     },
     "execution_count": 15,
     "metadata": {},
     "output_type": "execute_result"
    }
   ],
   "source": [
    "car1[\"brand\"]"
   ]
  },
  {
   "cell_type": "code",
   "execution_count": 16,
   "metadata": {},
   "outputs": [
    {
     "data": {
      "text/plain": [
       "1964"
      ]
     },
     "execution_count": 16,
     "metadata": {},
     "output_type": "execute_result"
    }
   ],
   "source": [
    "car1.get(\"year\")"
   ]
  },
  {
   "cell_type": "code",
   "execution_count": 17,
   "metadata": {},
   "outputs": [
    {
     "name": "stdout",
     "output_type": "stream",
     "text": [
      "{'brand': 'Ford', 'model': 'Mustang', 'year': 1970}\n"
     ]
    }
   ],
   "source": [
    "car1[\"year\"] = 1970\n",
    "print(car1)"
   ]
  },
  {
   "cell_type": "markdown",
   "metadata": {},
   "source": [
    "> `keys()`, `values()` ve `items()` metotları kullanarak dictionaries elementlerine ulaşabiliriz."
   ]
  },
  {
   "cell_type": "code",
   "execution_count": 18,
   "metadata": {},
   "outputs": [
    {
     "name": "stdout",
     "output_type": "stream",
     "text": [
      "dict_keys(['brand', 'model', 'year'])\n"
     ]
    }
   ],
   "source": [
    "print(car1.keys()) #keys metotu dictionary icindeki keyleri string olarak dondurur"
   ]
  },
  {
   "cell_type": "code",
   "execution_count": 19,
   "metadata": {},
   "outputs": [
    {
     "name": "stdout",
     "output_type": "stream",
     "text": [
      "dict_values(['Ford', 'Mustang', 1970])\n"
     ]
    }
   ],
   "source": [
    "print(car1.values()) #values metotu dictionary icindeki valuelari string olarak dondurur"
   ]
  },
  {
   "cell_type": "code",
   "execution_count": 20,
   "metadata": {},
   "outputs": [
    {
     "name": "stdout",
     "output_type": "stream",
     "text": [
      "dict_items([('brand', 'Ford'), ('model', 'Mustang'), ('year', 1970)])\n"
     ]
    }
   ],
   "source": [
    "print(car1.items()) #items metotu dictionary icindeki key-value pairlerini tuple olarak dondurur"
   ]
  },
  {
   "cell_type": "code",
   "execution_count": 21,
   "metadata": {},
   "outputs": [
    {
     "name": "stdout",
     "output_type": "stream",
     "text": [
      "{'brand': 'Ford', 'model': 'Mustang', 'year': 1970}\n",
      "checking if 'brand' is a key in car1 =>  True\n",
      "checking if 'brand' is a key in car1 =>  True\n",
      "checking if 'Ford' is a value in car1 =>  False\n",
      "checking if 'Ford' is a value in car1 =>  True\n"
     ]
    }
   ],
   "source": [
    "print(car1)\n",
    "print(\"checking if 'brand' is a key in car1 => \",\"brand\" in car1)\n",
    "print(\"checking if 'brand' is a key in car1 => \",\"brand\" in car1.keys())\n",
    "print(\"checking if 'Ford' is a value in car1 => \",\"Ford\" in car1)\n",
    "print(\"checking if 'Ford' is a value in car1 => \",\"Ford\" in car1.values())"
   ]
  },
  {
   "cell_type": "markdown",
   "metadata": {},
   "source": [
    "> **Dictionary'ye eleman eklemek** \n",
    "    - indeksleme ([])"
   ]
  },
  {
   "cell_type": "code",
   "execution_count": 22,
   "metadata": {},
   "outputs": [
    {
     "name": "stdout",
     "output_type": "stream",
     "text": [
      "{'brand': 'Ford', 'model': 'Mustang', 'year': 1970, 'color': 'red'}\n"
     ]
    }
   ],
   "source": [
    "car1[\"color\"] = \"red\"\n",
    "print(car1)"
   ]
  },
  {
   "cell_type": "markdown",
   "metadata": {},
   "source": [
    "> `update()` fonksiyonu"
   ]
  },
  {
   "cell_type": "code",
   "execution_count": 23,
   "metadata": {},
   "outputs": [
    {
     "name": "stdout",
     "output_type": "stream",
     "text": [
      "{'brand': 'Ford', 'model': 'Mustang', 'year': 1970, 'color': 'red', 'condition': 'used'}\n"
     ]
    }
   ],
   "source": [
    "car1.update({\"condition\":\"used\"})\n",
    "print(car1)"
   ]
  },
  {
   "cell_type": "markdown",
   "metadata": {},
   "source": [
    "> **Dictionary'den eleman silmek** <br>-`popitem()` #En son eklenen değeri siler. (python 3.7 öncesinde rastgele eleman çıkarmaktaydı.)<br>-`pop()` #Verilen key değerini siler.<br>-`del` #İndekslenmiş değeri siler. Tüm dictionary'yi de silebilirsiniz. <br>-`clear()` #Dictionary'yi temizler."
   ]
  },
  {
   "cell_type": "code",
   "execution_count": 24,
   "metadata": {},
   "outputs": [
    {
     "name": "stdout",
     "output_type": "stream",
     "text": [
      "{'brand': 'Ford', 'model': 'Mustang', 'year': 1970, 'condition': 'used'}\n"
     ]
    }
   ],
   "source": [
    "car1.pop(\"color\")\n",
    "print(car1)"
   ]
  },
  {
   "cell_type": "code",
   "execution_count": 25,
   "metadata": {},
   "outputs": [
    {
     "name": "stdout",
     "output_type": "stream",
     "text": [
      "{'brand': 'Ford', 'model': 'Mustang', 'year': 1970}\n"
     ]
    }
   ],
   "source": [
    "car1.popitem()\n",
    "print(car1)"
   ]
  },
  {
   "cell_type": "code",
   "execution_count": 26,
   "metadata": {},
   "outputs": [
    {
     "name": "stdout",
     "output_type": "stream",
     "text": [
      "{'brand': 'Ford', 'model': 'Mustang'}\n"
     ]
    }
   ],
   "source": [
    "del car1[\"year\"]\n",
    "print(car1)"
   ]
  },
  {
   "cell_type": "code",
   "execution_count": 27,
   "metadata": {},
   "outputs": [
    {
     "name": "stdout",
     "output_type": "stream",
     "text": [
      "{}\n"
     ]
    }
   ],
   "source": [
    "car1.clear()\n",
    "print(car1)"
   ]
  },
  {
   "cell_type": "code",
   "execution_count": 28,
   "metadata": {},
   "outputs": [],
   "source": [
    "del car1"
   ]
  },
  {
   "cell_type": "markdown",
   "metadata": {},
   "source": [
    "> `dict()` consturctor'u ve `copy()` metotu"
   ]
  },
  {
   "cell_type": "code",
   "execution_count": 30,
   "metadata": {},
   "outputs": [
    {
     "name": "stdout",
     "output_type": "stream",
     "text": [
      "child1  {'name': 'Baris', 'bday': '13 Oct 1997'}\n",
      "baris  {'name': 'Baris', 'bday': '13 Oct 1997'}\n"
     ]
    }
   ],
   "source": [
    "child1 = {\n",
    "    \"name\" : \"Baris\",\n",
    "    \"bday\" : \"13 Oct 1997\"\n",
    "}\n",
    "\n",
    "baris = child1\n",
    "\n",
    "print(\"child1 \",child1)\n",
    "print(\"baris \",baris)"
   ]
  },
  {
   "cell_type": "code",
   "execution_count": 31,
   "metadata": {},
   "outputs": [
    {
     "name": "stdout",
     "output_type": "stream",
     "text": [
      "child1  {'bday': '13 Oct 1997'}\n",
      "baris  {'bday': '13 Oct 1997'}\n"
     ]
    }
   ],
   "source": [
    "child1.pop(\"name\")\n",
    "print(\"child1 \",child1)\n",
    "print(\"baris \",baris)"
   ]
  },
  {
   "cell_type": "markdown",
   "metadata": {},
   "source": [
    "> Daha önceden bahsettiğimiz referans ve kopyalama koşulları dictionaryler için de geçerli. Eğer bir dictionary kopyalamak istiyorsak `copy()` metotunu kullanmalıyız."
   ]
  },
  {
   "cell_type": "code",
   "execution_count": 32,
   "metadata": {},
   "outputs": [
    {
     "name": "stdout",
     "output_type": "stream",
     "text": [
      "child1  {'name': 'Baris', 'bday': '13 Oct 1997'}\n",
      "baris  {'name': 'Baris', 'bday': '13 Oct 1997'}\n"
     ]
    }
   ],
   "source": [
    "child1 = {\n",
    "    \"name\" : \"Baris\",\n",
    "    \"bday\" : \"13 Oct 1997\"\n",
    "}\n",
    "\n",
    "baris = child1.copy()\n",
    "\n",
    "print(\"child1 \",child1)\n",
    "print(\"baris \",baris)"
   ]
  },
  {
   "cell_type": "code",
   "execution_count": 33,
   "metadata": {},
   "outputs": [
    {
     "name": "stdout",
     "output_type": "stream",
     "text": [
      "child1  {'bday': '13 Oct 1997'}\n",
      "baris  {'name': 'Baris', 'bday': '13 Oct 1997'}\n"
     ]
    }
   ],
   "source": [
    "child1.pop(\"name\")\n",
    "print(\"child1 \",child1)\n",
    "print(\"baris \",baris)"
   ]
  },
  {
   "cell_type": "markdown",
   "metadata": {},
   "source": [
    "> `copy()` metotu yerine `dict()` concstuctor'u da kullanılabilir."
   ]
  },
  {
   "cell_type": "code",
   "execution_count": 35,
   "metadata": {},
   "outputs": [
    {
     "name": "stdout",
     "output_type": "stream",
     "text": [
      "child1  {'name': 'vladimir', 'bday': '09 June 1994'}\n",
      "vladimir  {'name': 'vladimir', 'bday': '09 June 1994'}\n"
     ]
    }
   ],
   "source": [
    "child2 = {\n",
    "    \"name\" : \"vladimir\",\n",
    "    \"bday\" : \"09 June 1994\"\n",
    "}\n",
    "\n",
    "vladimir = dict(child2)\n",
    "\n",
    "print(\"child1 \",child2)\n",
    "print(\"vladimir \",vladimir)"
   ]
  },
  {
   "cell_type": "code",
   "execution_count": 36,
   "metadata": {},
   "outputs": [
    {
     "name": "stdout",
     "output_type": "stream",
     "text": [
      "child2  {'bday': '09 June 1994'}\n",
      "vladimir  {'name': 'vladimir', 'bday': '09 June 1994'}\n"
     ]
    }
   ],
   "source": [
    "child2.pop(\"name\")\n",
    "print(\"child2 \",child2)\n",
    "print(\"vladimir \",vladimir)"
   ]
  },
  {
   "cell_type": "markdown",
   "metadata": {},
   "source": [
    "> `dict()` consturctor'u kopyalamanın dışında dictionary oluştururken de kullanılabilir."
   ]
  },
  {
   "cell_type": "code",
   "execution_count": 37,
   "metadata": {},
   "outputs": [
    {
     "name": "stdout",
     "output_type": "stream",
     "text": [
      "{'brand': 'Ford', 'model': 'Mustang', 'year': 1964}\n",
      "type of car1 is  <class 'dict'>\n"
     ]
    }
   ],
   "source": [
    "car1 = dict(brand=\"Ford\", model=\"Mustang\", year=1964)\n",
    "print(car1)\n",
    "print(\"type of car1 is \",type(car1))"
   ]
  },
  {
   "cell_type": "markdown",
   "metadata": {},
   "source": [
    "> **Nested Dictionary'ler**"
   ]
  },
  {
   "cell_type": "code",
   "execution_count": 38,
   "metadata": {},
   "outputs": [
    {
     "name": "stdout",
     "output_type": "stream",
     "text": [
      "{'john': {'age': 46}, 'ana': {'age': 45}, 'peter': {'age': 16}}\n"
     ]
    }
   ],
   "source": [
    "family = {\n",
    "    \"john\":{\n",
    "        \"age\":46\n",
    "    },\n",
    "    \"ana\":{\n",
    "        \"age\":45\n",
    "    },\n",
    "    \"peter\":{\n",
    "        \"age\":16\n",
    "    }\n",
    "}\n",
    "print(family)"
   ]
  },
  {
   "cell_type": "code",
   "execution_count": 39,
   "metadata": {},
   "outputs": [
    {
     "name": "stdout",
     "output_type": "stream",
     "text": [
      "{'age': 46}\n"
     ]
    }
   ],
   "source": [
    "print(family[\"john\"])"
   ]
  },
  {
   "cell_type": "code",
   "execution_count": 40,
   "metadata": {},
   "outputs": [
    {
     "name": "stdout",
     "output_type": "stream",
     "text": [
      "dict_keys(['john', 'ana', 'peter'])\n"
     ]
    }
   ],
   "source": [
    "print(family.keys())"
   ]
  },
  {
   "cell_type": "code",
   "execution_count": 41,
   "metadata": {},
   "outputs": [
    {
     "name": "stdout",
     "output_type": "stream",
     "text": [
      "dict_values([{'age': 46}, {'age': 45}, {'age': 16}])\n"
     ]
    }
   ],
   "source": [
    "print(family.values())"
   ]
  },
  {
   "cell_type": "code",
   "execution_count": null,
   "metadata": {},
   "outputs": [],
   "source": []
  }
 ],
 "metadata": {
  "kernelspec": {
   "display_name": "Python 3",
   "language": "python",
   "name": "python3"
  },
  "language_info": {
   "codemirror_mode": {
    "name": "ipython",
    "version": 3
   },
   "file_extension": ".py",
   "mimetype": "text/x-python",
   "name": "python",
   "nbconvert_exporter": "python",
   "pygments_lexer": "ipython3",
   "version": "3.7.4"
  }
 },
 "nbformat": 4,
 "nbformat_minor": 2
}
