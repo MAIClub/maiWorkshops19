{
  "nbformat": 4,
  "nbformat_minor": 0,
  "metadata": {
    "colab": {
      "name": "Functions_EN.ipynb",
      "provenance": [],
      "collapsed_sections": [],
      "include_colab_link": true
    },
    "kernelspec": {
      "name": "python3",
      "display_name": "Python 3"
    }
  },
  "cells": [
    {
      "cell_type": "markdown",
      "metadata": {
        "id": "view-in-github",
        "colab_type": "text"
      },
      "source": [
        "<a href=\"https://colab.research.google.com/github/MAIClub/maiWorkshops19/blob/master/Functions_EN.ipynb\" target=\"_parent\"><img src=\"https://colab.research.google.com/assets/colab-badge.svg\" alt=\"Open In Colab\"/></a>"
      ]
    },
    {
      "cell_type": "markdown",
      "metadata": {
        "id": "POujjrRw4NxA"
      },
      "source": [
        "# Access the lecture material:\n",
        "\n",
        "# http://bit.ly/MAIWS4"
      ]
    },
    {
      "cell_type": "markdown",
      "metadata": {
        "id": "CZyBRfcx1KGt"
      },
      "source": [
        "# Functions\n",
        "\n",
        "Functions are a block of reusable code written for a purpose, collected under one roof.\n",
        "\n",
        "\n",
        "The biggest advantages of functions are that they can be reused and organize the code you type.\n",
        "\n",
        "Function definition:\n",
        "1. the word` def ' indicates a function\n",
        "2. Then the function name is written and parentheses are added. 'def functionname ()`\n",
        "3. If the function requires information to accomplish its purpose, we add a `parameter`(any variable) into your parenthesis.\n",
        "'def function (variable)`\n",
        "4. If the purpose of the function is to operate on the given variable, we can return the processed variable(optional). 'return new_variable`\n",
        "\n",
        "---"
      ]
    },
    {
      "cell_type": "markdown",
      "metadata": {
        "id": "USNXtlen4bN3"
      },
      "source": [
        "**Example #1**\n",
        "\n",
        "A function that writes Hello to the user with a given name"
      ]
    },
    {
      "cell_type": "code",
      "metadata": {
        "id": "yRBStDX96trr"
      },
      "source": [
        "def Hello(name):\n",
        "  print(\"Hello \" + name)\n",
        "\n",
        "Hello(\"MAI\")"
      ],
      "execution_count": null,
      "outputs": []
    },
    {
      "cell_type": "markdown",
      "metadata": {
        "id": "qRGoj0I57pqk"
      },
      "source": [
        "Those in order above:\n",
        "1. we define a function called `Hello`.\n",
        "2. We take the variable `name` as the necessary parameter.\n",
        "3. We combine the variable\" name \"with the letter \"hello\" and print it.\n",
        "4. When we are outside the function, we call the `Hello` function and enter the name \"Doğukan\" as a parameter."
      ]
    },
    {
      "cell_type": "markdown",
      "metadata": {
        "id": "0iDgpZXc7Rp0"
      },
      "source": [
        "**Example #2**\n",
        "\n",
        "A function that takes the square of a given number and returns it"
      ]
    },
    {
      "cell_type": "code",
      "metadata": {
        "id": "4aRF5TWO4a3A"
      },
      "source": [
        "def square(x):\n",
        "  return x * x\n",
        "\n",
        "squared_number = square(5)\n",
        "print(squared_number)"
      ],
      "execution_count": null,
      "outputs": []
    },
    {
      "cell_type": "markdown",
      "metadata": {
        "id": "0aXqHic99NRl"
      },
      "source": [
        "Those in order above:\n",
        "1. we define a function called` square'.\n",
        "2. We take the variable `x` as the necessary parameter.\n",
        "3. we multiply the number `x` by `x`  and return the resulting value.\n",
        "4. we call the `square()` function and assign the **value it returns** to `squared_number` and print it."
      ]
    },
    {
      "cell_type": "markdown",
      "metadata": {
        "id": "FLhNFXCox_7y"
      },
      "source": [
        "we can place multiple parameters in our function :"
      ]
    },
    {
      "cell_type": "code",
      "metadata": {
        "id": "kBJnvbz3yJeI"
      },
      "source": [
        "def sum(x,y):\n",
        "  return x + y\n",
        "\n",
        "print(sum(5,10))"
      ],
      "execution_count": null,
      "outputs": []
    },
    {
      "cell_type": "markdown",
      "metadata": {
        "id": "ujqnHNwmrLI5"
      },
      "source": [
        "**Example #3**"
      ]
    },
    {
      "cell_type": "markdown",
      "metadata": {
        "id": "Xvt2tz3Krd66"
      },
      "source": [
        "Any data type can be a function parameter (string, number, list, dictionary, etc.)\n",
        "\n",
        "For example. If you send a list as a parameter, it will still be a list when it reaches the function:"
      ]
    },
    {
      "cell_type": "code",
      "metadata": {
        "id": "cMc-HXaDrPne"
      },
      "source": [
        "def list_function(food):\n",
        "  for x in food:\n",
        "    print(x)\n",
        "\n",
        "fruits = [\"apple\", \"banana\", \"cherry\"]\n",
        "\n",
        "list_function(fruits)"
      ],
      "execution_count": null,
      "outputs": []
    },
    {
      "cell_type": "markdown",
      "metadata": {
        "id": "kbECXQTGyj84"
      },
      "source": [
        "**Exercise**\n",
        "\n",
        "Create 4 different functions: addition, subtraction, multiplication and division.\n",
        "\n",
        "\n",
        "---"
      ]
    },
    {
      "cell_type": "markdown",
      "metadata": {
        "id": "4M-i7OAdzThG"
      },
      "source": [
        "# Scope\n",
        "\n",
        "The scope of a variable is the part of a program in which the variable is recognized. Parameters and variables defined in a function are not visible from the outside. Therefore, it has a local scope.\n",
        "\n",
        "Here, there are two important terms,` global `and` local ' variables.\n",
        "\n",
        "'global': in Python, a variable defined outside the function is called a global variable. These variables can be accessed by all functions\n",
        "\n",
        "` local': local variables are only accessible within the function or from control expression(if, for, while etc.) you define.\n",
        "\n",
        "** Example # 4**"
      ]
    },
    {
      "cell_type": "code",
      "metadata": {
        "id": "l8LiDbrZ2MPz"
      },
      "source": [
        "\n",
        "def function(): \n",
        "\tprint(s) \n",
        "\n",
        "# Global variable\n",
        "s = \"Python Workshop\"\n",
        "function() \n"
      ],
      "execution_count": null,
      "outputs": []
    },
    {
      "cell_type": "markdown",
      "metadata": {
        "id": "TWgEQelT_hFe"
      },
      "source": [
        "**Example # 5**\n",
        "\n",
        "since x is defined in a 'global' context, we can use it both inside and outside the function"
      ]
    },
    {
      "cell_type": "code",
      "metadata": {
        "id": "IIH6Emoj_jhH",
        "outputId": "27e63700-9797-4c5d-9282-61e91323e1ff",
        "colab": {
          "base_uri": "https://localhost:8080/",
          "height": 54
        }
      },
      "source": [
        "x = 300\n",
        "\n",
        "def myfunc():\n",
        "  print(x)\n",
        "\n",
        "myfunc()\n",
        "\n",
        "print(x)"
      ],
      "execution_count": null,
      "outputs": [
        {
          "output_type": "stream",
          "text": [
            "300\n",
            "300\n"
          ],
          "name": "stdout"
        }
      ]
    },
    {
      "cell_type": "markdown",
      "metadata": {
        "id": "MdowCO10-SZs"
      },
      "source": [
        "**Example # 6**\n",
        "\n",
        "* first, the variable `x` is defined as `global` with the value `300`.\n",
        "* Then in the function `myFunc ()`, we define `X`as `local` with the value `200`.\n",
        "* when `print (x)` is called, it first searches for the `local` state of the variable. because `local `is` 200`,` 200` is printed on the screen.\n",
        "\n",
        "\n",
        "After running the program, when `print(X)` is called again, the output will be `300`. Why? didn't we define `x`as `200` in`myFunc ()\"?\n",
        "\n",
        "This is because the life of `local` variables lasts only within the expressions in which they are defined in. That is, after` myFunc () `ends, the `local` value of `X` is deleted from memory. The code in the bottom line prints the last memory version of `X`, defined as a `global` variable, with a value of `300`."
      ]
    },
    {
      "cell_type": "code",
      "metadata": {
        "id": "nfOtkLDu-VHW"
      },
      "source": [
        "x = 300\n",
        "\n",
        "def myfunc():\n",
        "  x = 200\n",
        "  print(x)\n",
        "\n",
        "myfunc()\n",
        "\n",
        "print(x)"
      ],
      "execution_count": null,
      "outputs": []
    },
    {
      "cell_type": "markdown",
      "metadata": {
        "id": "31xYqS0mmnRe"
      },
      "source": [
        "**Exercise # 2**\n",
        "\n",
        "* Write a function that returns the maximum of the two numbers given as parameters.\n",
        "* Write a function that takes the number ` x ` as a parameter and returns the value of $6 x^2 + 5 x + 3$.\n",
        "---"
      ]
    },
    {
      "cell_type": "markdown",
      "metadata": {
        "id": "zmyxHoJsoQIf"
      },
      "source": [
        "# Recursion\n",
        "\n",
        "Recursion is a common mathematical and programming concept. Means that a function calls itself. This means you have the advantage of being able to navigate through the data to reach a conclusion."
      ]
    },
    {
      "cell_type": "markdown",
      "metadata": {
        "id": "cS5QRtE9tKlA"
      },
      "source": [
        "**Example # 7**\n",
        "\n",
        "\n",
        "We can learn recursion with an example of a function that calculates the factorial of a number."
      ]
    },
    {
      "cell_type": "code",
      "metadata": {
        "id": "VWEgylf5pdqE",
        "outputId": "6c3c47c8-3b82-486f-b547-ba80168389aa",
        "colab": {
          "base_uri": "https://localhost:8080/",
          "height": 35
        }
      },
      "source": [
        "def factorial(x):\n",
        "  if x <= 1:\n",
        "    return x\n",
        "  else:\n",
        "    return x * factorial(x - 1)\n",
        "\n",
        "factorial(4)"
      ],
      "execution_count": null,
      "outputs": [
        {
          "output_type": "execute_result",
          "data": {
            "text/plain": [
              "120"
            ]
          },
          "metadata": {
            "tags": []
          },
          "execution_count": 3
        }
      ]
    },
    {
      "cell_type": "markdown",
      "metadata": {
        "id": "R40GBMvmpyrO"
      },
      "source": [
        "In the example above, the `factorial ()` is a `recursive` function because it calls itself.\n",
        "\n",
        "when we call the` factorial() ` function with a positive integer, it will call itself repeatedly, reducing the number until it reaches 1.\n",
        "\n",
        "Each function call multiplies the number by the of the previous function return until the number is equal to one. This recursion logic call can be explained in the following steps."
      ]
    },
    {
      "cell_type": "code",
      "metadata": {
        "id": "0O4E1aA2pqzd"
      },
      "source": [
        "factorial(4)               # First call with number 4\n",
        "4 * factorial(3)           # First call with number 3\n",
        "4 * 3 * factorial(2)       # First call with number 2\n",
        "4 * 3 * 2 * factorial(1)   # First call with number 1\n",
        "4 * 3 * 2 * 1              # 4th return from Call\n",
        "4 * 3 * 2                  # 3th return from Call\n",
        "4 * 6                      # 2nd return from Call\n",
        "24                         # 1st return from Call"
      ],
      "execution_count": null,
      "outputs": []
    },
    {
      "cell_type": "markdown",
      "metadata": {
        "id": "2qmbH7TBx558"
      },
      "source": [
        "---\n",
        "# Summary\n",
        "\n",
        "**Functions**\n",
        "\n",
        "* Functions make the code we write organized, clean, readable and, importantly, reusable.\n",
        "* Function definition:\n",
        "1. the word` def `  indicates a function\n",
        "2. Then the function name is written and parentheses are added. ` def functionname()`\n",
        "3. If the function requires information to accomplish its purpose, we add a `parameter`(any variable) in the parenthesis.\n",
        "`def function (variable)`\n",
        "4. If the purpose of the function is to operate on the given variable, we can return the processed variable(optional). `return new_variable`\n",
        "\n",
        "**Scope**\n",
        "\n",
        "`global`: in Python, a variable defined outside the function is called a global variable. These variables can be accessed on each side of the function.\n",
        "\n",
        "`local`: local variables, can only be accessed inside the function or from the control expression you define.\n",
        "\n",
        "**Recursion**\n",
        "\n",
        "Recursion is a common mathematical and programming concept. Means that a function calls itself. This means you have the advantage of being able to navigate through the data to reach a conclusion.\n",
        "\n",
        "---\n",
        "\n",
        "#Practice\n",
        "\n",
        "1. A function that takes a name in the given parameter and returns the string `\"Hello\" + name`\n",
        "\n",
        "2. Write a function that tests whether the given `x` paremeter can be divided by the other given `y` parameter. If it is divided, return a string value of `\"divided\"`, if it cannot be divided, `\"can't be divided\"`, and print this string.\n",
        "\n",
        "3. write a function(for loop) to sum all the numbers in a list.\n",
        "\n",
        "4. write a function to multiply all the numbers in a list, type a function for(for loop)."
      ]
    }
  ]
}