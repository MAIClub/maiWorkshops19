{
  "nbformat": 4,
  "nbformat_minor": 0,
  "metadata": {
    "colab": {
      "name": "Control Statements_EN.ipynb",
      "provenance": [],
      "collapsed_sections": [],
      "include_colab_link": true
    },
    "kernelspec": {
      "name": "python3",
      "display_name": "Python 3"
    }
  },
  "cells": [
    {
      "cell_type": "markdown",
      "metadata": {
        "id": "view-in-github",
        "colab_type": "text"
      },
      "source": [
        "<a href=\"https://colab.research.google.com/github/MAIClub/maiWorkshops19/blob/master/Control_Statements_EN.ipynb\" target=\"_parent\"><img src=\"https://colab.research.google.com/assets/colab-badge.svg\" alt=\"Open In Colab\"/></a>"
      ]
    },
    {
      "cell_type": "markdown",
      "metadata": {
        "id": "46SjB7RwPAqq",
        "colab_type": "text"
      },
      "source": [
        "\n",
        "# Control Statements\n",
        "In this lesson we will cover the following topics.\n",
        "\n",
        "\n",
        "*   `if` , `elif` and `else` statements\n",
        "*   `for` and `while` loops\n",
        "* \n",
        "\n",
        "\n",
        "\n",
        "In Python, we have control statements, which alter the code based on conditions. For example we want to check whether a variable is equal to a specific value. then we use control statements.\n",
        "\n",
        "Even though loops are not considered 'Control Statements' it still allows us to control the code based upon conditions.\n",
        "\n",
        "---\n",
        "# If Statement\n",
        "We have learned the comparison operators in the previous lessons.\n",
        "The `if` statement is pretty straight-forward to use.\n",
        "\n",
        "We put the condition to be checked, then we put `:` to tell python to execute the block code below(if that condition is `true`).\n",
        "\n",
        "\n",
        "\n",
        "> Note: Python puts importance on `indentation`. So be careful.\n",
        "\n",
        "\n"
      ]
    },
    {
      "cell_type": "code",
      "metadata": {
        "id": "zwZZCG-rM4fv",
        "colab_type": "code",
        "colab": {}
      },
      "source": [
        "if 5 > 3:\n",
        "  print(\"a\")\n",
        "if 4 == 4:\n",
        "  print(\"b\")\n",
        "if 5 == 1:\n",
        "  print(\"c\")"
      ],
      "execution_count": 0,
      "outputs": []
    },
    {
      "cell_type": "markdown",
      "metadata": {
        "id": "ttW6pzUKTFUl",
        "colab_type": "text"
      },
      "source": [
        "Okay so we can compare number, but so what? This isn't even useful.\n",
        "Well we can compare variables."
      ]
    },
    {
      "cell_type": "code",
      "metadata": {
        "id": "Zpe_OyZKShTB",
        "colab_type": "code",
        "colab": {}
      },
      "source": [
        "var = 10\n",
        "num = 5\n",
        "\n",
        "if var == 5:\n",
        "  print(\"var is 5\")\n",
        "if var == num:\n",
        "  print(\"var equals to num\")"
      ],
      "execution_count": 0,
      "outputs": []
    },
    {
      "cell_type": "markdown",
      "metadata": {
        "id": "9Dy_GCPKr7go",
        "colab_type": "text"
      },
      "source": [
        "And not just Integers, we also can compare other data types"
      ]
    },
    {
      "cell_type": "code",
      "metadata": {
        "id": "GK3TCXbApUkx",
        "colab_type": "code",
        "colab": {}
      },
      "source": [
        "integer = 8\n",
        "float_number = 14.2\n",
        "text = \"Hello.\"\n",
        "boolean = True\n",
        "another_integer = 9\n",
        "\n",
        "if text == \"Hello.\":\n",
        "  print(\"string comparison.\")\n",
        "\n",
        "if boolean: # The opposite of this would be !boolean. We can also write boolean == True,boolean but this way is shorter.\n",
        "  print(\"boolean comparison.\")\n",
        "\n",
        "if (float_number - 5.0) == 9.2:\n",
        "  print(\"float comparsion\")\n",
        "\n",
        "if integer % 2 == 0:\n",
        "  print(\"8 is divisible by 2\")\n",
        "\n",
        "if another_integer != 2:\n",
        "  print(\"another_integer does not equal to 2\")\n"
      ],
      "execution_count": 0,
      "outputs": []
    },
    {
      "cell_type": "markdown",
      "metadata": {
        "id": "0m3s4d9Erm5F",
        "colab_type": "text"
      },
      "source": [
        "Using the operators `and`, `or` perform checks on multiple conditions, \n",
        "Here's an example:"
      ]
    },
    {
      "cell_type": "code",
      "metadata": {
        "id": "RgysS04wr85A",
        "colab_type": "code",
        "colab": {}
      },
      "source": [
        "var = 1\n",
        "another_var = 12\n",
        "\n",
        "if var == 1 and another_var == 12:\n",
        "  print(\"If var is 1 and another_var is 10, this will be executed\")\n",
        "\n",
        "if var == 1 and another_var == 10:\n",
        "  print(\"If var is 1 and another_var is 10, this will be executed\") # this will not be execute because both conditions need to be true\n",
        "\n",
        "if var == 1 or another_var == 10:\n",
        "  print(\"If var is 1 or another_var is 10, this will be executed\")\n"
      ],
      "execution_count": 0,
      "outputs": []
    },
    {
      "cell_type": "markdown",
      "metadata": {
        "id": "FCcIJcegRc1D",
        "colab_type": "text"
      },
      "source": [
        "Well that's cool and all, but what if we want to execute when the condition isn't satisfied. Well, just put `else:` and that's it."
      ]
    },
    {
      "cell_type": "code",
      "metadata": {
        "id": "M9hSjZtGOdfl",
        "colab_type": "code",
        "colab": {}
      },
      "source": [
        "if 5 == 4:\n",
        "  print(\"5 = 4\")\n",
        "else:\n",
        "  print(\"Wait, that's not true.\")"
      ],
      "execution_count": 0,
      "outputs": []
    },
    {
      "cell_type": "markdown",
      "metadata": {
        "id": "1xOKdwTyXN85",
        "colab_type": "text"
      },
      "source": [
        "Next onto `elif`(else if). \n",
        "elif statement is used after an if statement already created and you can have as many as of them you want. simply put, if the condition above that `elif` is not satisfied, the following `elif` statement is executed.\n",
        "\n",
        "> Note :The `elif` statement is synchronous\n",
        "\n",
        "\n"
      ]
    },
    {
      "cell_type": "code",
      "metadata": {
        "id": "tz98E6VVVzxN",
        "colab_type": "code",
        "colab": {}
      },
      "source": [
        "var = 10\n",
        "num = 5\n",
        "\n",
        "if var == 12:\n",
        "  print(\"var is 12\")\n",
        "elif var == 11:\n",
        "  print(\"var is 11\")\n",
        "elif var == 10:\n",
        "  print(\"var is 10\")\n",
        "else:\n",
        "  print(\"none of above\")"
      ],
      "execution_count": 0,
      "outputs": []
    },
    {
      "cell_type": "markdown",
      "metadata": {
        "id": "SdilFrOwoGiV",
        "colab_type": "text"
      },
      "source": [
        "Here is a simple program that checks whether the input from the user is either positive, neutral or negative.\n",
        "\n",
        " "
      ]
    },
    {
      "cell_type": "code",
      "metadata": {
        "id": "aTuGGhTxociO",
        "colab_type": "code",
        "colab": {}
      },
      "source": [
        "number = int(input())\n",
        "\n",
        "if number > 0:\n",
        "  print(\"The number is positive.\")\n",
        "elif number < 0:\n",
        "  print(\"The number is negative.\")\n",
        "elif number == 0:\n",
        "  print(\"The number is neutral.\")\n"
      ],
      "execution_count": 0,
      "outputs": []
    },
    {
      "cell_type": "markdown",
      "metadata": {
        "id": "XaohneSv_lnZ",
        "colab_type": "text"
      },
      "source": [
        "---\n",
        "# The While Loop\n",
        "Sometimes we would like to run a code numerous of times each time happening something slighty different.\n",
        "Of course, writing the same code with different alteration again and again would be both time consuming and unpractical.\n",
        "\n",
        "Here, the loops save as the trouble. The synax of `while` is same with the `if`.\n",
        "Here is an example below.\n",
        "\n",
        "\n",
        "\n"
      ]
    },
    {
      "cell_type": "code",
      "metadata": {
        "id": "xj1-VXiS_UhT",
        "colab_type": "code",
        "colab": {}
      },
      "source": [
        "num = 0\n",
        "while num <= 10:\n",
        "  print(num)\n",
        "  num = num + 1\n"
      ],
      "execution_count": 0,
      "outputs": []
    },
    {
      "cell_type": "markdown",
      "metadata": {
        "id": "GvNPWS8MPcs-",
        "colab_type": "text"
      },
      "source": [
        "Here is basically what happens in code above:\n",
        "\n",
        "1. We create a number and equal it to `0`\n",
        "2. `while` checks whether num is less than 10, if it is,it executes the code block below, if not the `while` is finished.\n",
        "3. `print(num)`\n",
        "4. it adds `1` to the current value of `num`\n",
        "5. Goes back to step 2.\n",
        "\n"
      ]
    },
    {
      "cell_type": "markdown",
      "metadata": {
        "id": "AYSlGYanH_Jh",
        "colab_type": "text"
      },
      "source": [
        "---\n",
        "The `break` and `continue`.\n",
        "\n",
        "We can control our loop based on some inner conditions we put in the loop.\n",
        "\n",
        "*   `break`: this command breaks out of the loop(finishes the loop) \n",
        "*   `continue`: this command skips the current iteration of the loop\n",
        "\n",
        "> Note: The code below of both `break` and `continue` are not executed(still in the loop).\n",
        "\n",
        "Here's an example for `continue`:\n",
        "\n",
        "when the `index` is `5`, it skips to the next iteration."
      ]
    },
    {
      "cell_type": "code",
      "metadata": {
        "id": "bbdHN8CpH-FL",
        "colab_type": "code",
        "outputId": "c3038b09-98d6-4f74-a84b-40d7c30ad9b9",
        "colab": {
          "base_uri": "https://localhost:8080/",
          "height": 185
        }
      },
      "source": [
        "index = 0\n",
        "while index < 10:\n",
        "  index += 1\n",
        "  if index == 5:\n",
        "    continue\n",
        "  print(index)\n",
        "  "
      ],
      "execution_count": 0,
      "outputs": [
        {
          "output_type": "stream",
          "text": [
            "1\n",
            "2\n",
            "3\n",
            "4\n",
            "6\n",
            "7\n",
            "8\n",
            "9\n",
            "10\n"
          ],
          "name": "stdout"
        }
      ]
    },
    {
      "cell_type": "code",
      "metadata": {
        "id": "weSt0A1aD2DE",
        "colab_type": "code",
        "colab": {}
      },
      "source": [
        ""
      ],
      "execution_count": 0,
      "outputs": []
    },
    {
      "cell_type": "markdown",
      "metadata": {
        "id": "Y3Q9Eo-9ftK8",
        "colab_type": "text"
      },
      "source": [
        "Here's an example for `break`:\n",
        "\n",
        "When the `index` is `5`, it breaks out of loop(finishes the loop)."
      ]
    },
    {
      "cell_type": "code",
      "metadata": {
        "id": "VBk_AFrjgVdR",
        "colab_type": "code",
        "outputId": "4434dd7d-cf6c-4f1e-e4b8-701ac0341142",
        "colab": {
          "base_uri": "https://localhost:8080/",
          "height": 129
        }
      },
      "source": [
        "index = 0\n",
        "while index < 10:\n",
        "  print(index)\n",
        "  if index == 5:\n",
        "    break\n",
        "  index += 1"
      ],
      "execution_count": 0,
      "outputs": [
        {
          "output_type": "stream",
          "text": [
            "0\n",
            "1\n",
            "2\n",
            "3\n",
            "4\n",
            "5\n"
          ],
          "name": "stdout"
        }
      ]
    },
    {
      "cell_type": "markdown",
      "metadata": {
        "id": "Y_KhX864hqar",
        "colab_type": "text"
      },
      "source": [
        "---\n",
        "# The For Loop\n",
        "\n",
        "The `for` loop is probably one of the most useful control statement in python.\n",
        "A `for` loop is used for iterating over a sequence (that is either a list, a tuple, a dictionary, a set, or a string).\n",
        "\n",
        "This is less like the `for` keyword in other programming languages, and works more like an iterator method as found in other object-orientated programming languages.\n",
        "\n",
        "First, let's start with the basics: `range()`\n",
        "\n",
        "To loop through a set of code a specified number of times, we can use the `range()` function,\n",
        "\n",
        "The `range()` function returns a sequence of numbers, **starting from 0 by default, and increments by 1 (by default)**, and ends at a specified number.\n",
        "\n",
        "Here are a some examples:\n",
        "\n"
      ]
    },
    {
      "cell_type": "code",
      "metadata": {
        "id": "v7UFHbdh4bp7",
        "colab_type": "code",
        "colab": {}
      },
      "source": [
        "for number in range(10): #We are using variable names 'number' here, it's totally up to you what you name your variable here.You'll usually see 'i' as the variable name online.\n",
        "  print(number)"
      ],
      "execution_count": 0,
      "outputs": []
    },
    {
      "cell_type": "markdown",
      "metadata": {
        "id": "6pP5UKSx52dI",
        "colab_type": "text"
      },
      "source": [
        "You can set a starting number with `range(Starting Number, Ending Number)`"
      ]
    },
    {
      "cell_type": "code",
      "metadata": {
        "id": "AOrosfSJ4jp3",
        "colab_type": "code",
        "outputId": "6d8849a8-f6d5-4346-f0a4-4ee45131c7e7",
        "colab": {
          "base_uri": "https://localhost:8080/",
          "height": 204
        }
      },
      "source": [
        "for number in range(10,20):\n",
        "  print(number)"
      ],
      "execution_count": 0,
      "outputs": [
        {
          "output_type": "stream",
          "text": [
            "10\n",
            "11\n",
            "12\n",
            "13\n",
            "14\n",
            "15\n",
            "16\n",
            "17\n",
            "18\n",
            "19\n"
          ],
          "name": "stdout"
        }
      ]
    },
    {
      "cell_type": "markdown",
      "metadata": {
        "id": "wze8rFC86R8n",
        "colab_type": "text"
      },
      "source": [
        "Also you can change the incrementation value with `range(Starting Number, Ending Number, Incrementation)`\n",
        "\n",
        "Here are some examples:"
      ]
    },
    {
      "cell_type": "code",
      "metadata": {
        "id": "aesMmkai6O0d",
        "colab_type": "code",
        "outputId": "339425c3-c15b-4690-d756-9942237290dc",
        "colab": {
          "base_uri": "https://localhost:8080/",
          "height": 410
        }
      },
      "source": [
        "for number in range(0,20,2):\n",
        "  print(number)\n",
        "\n",
        "print(\"-------------\")\n",
        "\n",
        "for number in range(20,10,-1):\n",
        "  print(number)\n"
      ],
      "execution_count": 0,
      "outputs": [
        {
          "output_type": "stream",
          "text": [
            "0\n",
            "2\n",
            "4\n",
            "6\n",
            "8\n",
            "10\n",
            "12\n",
            "14\n",
            "16\n",
            "18\n",
            "-------------\n",
            "20\n",
            "19\n",
            "18\n",
            "17\n",
            "16\n",
            "15\n",
            "14\n",
            "13\n",
            "12\n",
            "11\n"
          ],
          "name": "stdout"
        }
      ]
    },
    {
      "cell_type": "markdown",
      "metadata": {
        "id": "M_AKvcJC-i9o",
        "colab_type": "text"
      },
      "source": [
        "Well, `for` loop isn't just for looping through numbers, it can be used to loop through a `string`,`set,`,`tuple` etc.\n",
        "\n",
        "Let's see the examples.\n",
        "\n",
        "Iterating over a string:"
      ]
    },
    {
      "cell_type": "code",
      "metadata": {
        "id": "GExapmvR-2j0",
        "colab_type": "code",
        "outputId": "bf0081b0-fc74-439a-f3e4-b405fd3877e6",
        "colab": {
          "base_uri": "https://localhost:8080/",
          "height": 185
        }
      },
      "source": [
        "text = \"MedicalAI\"\n",
        "\n",
        "for letter in text: \n",
        "  print(letter)"
      ],
      "execution_count": 0,
      "outputs": [
        {
          "output_type": "stream",
          "text": [
            "M\n",
            "e\n",
            "d\n",
            "i\n",
            "c\n",
            "a\n",
            "l\n",
            "A\n",
            "I\n"
          ],
          "name": "stdout"
        }
      ]
    },
    {
      "cell_type": "markdown",
      "metadata": {
        "id": "1r_g0yNC_O29",
        "colab_type": "text"
      },
      "source": [
        "Iterating over a list:"
      ]
    },
    {
      "cell_type": "code",
      "metadata": {
        "id": "gruPPgGD_NXI",
        "colab_type": "code",
        "outputId": "67535c02-dea9-4d4b-9acf-f758111dd4d1",
        "colab": {
          "base_uri": "https://localhost:8080/",
          "height": 92
        }
      },
      "source": [
        "array = [\"Medical\",\"Artificial\",\"Intelligence\",\"Club\"]\n",
        "\n",
        "for element in array:\n",
        "  print(element)"
      ],
      "execution_count": 0,
      "outputs": [
        {
          "output_type": "stream",
          "text": [
            "Medical\n",
            "Artificial\n",
            "Intelligence\n",
            "Club\n"
          ],
          "name": "stdout"
        }
      ]
    },
    {
      "cell_type": "markdown",
      "metadata": {
        "id": "ZwkPxuf6ez9J",
        "colab_type": "text"
      },
      "source": [
        "Just like in the `while` loop, we have the `break` and the `continue` statements:"
      ]
    },
    {
      "cell_type": "code",
      "metadata": {
        "id": "m1yBdf7OfEg1",
        "colab_type": "code",
        "outputId": "b092a37f-0386-45f3-9320-dc4f11476215",
        "colab": {
          "base_uri": "https://localhost:8080/",
          "height": 111
        }
      },
      "source": [
        "for i in range(10):\n",
        "  if i == 5:\n",
        "    break\n",
        "  print(i)"
      ],
      "execution_count": 0,
      "outputs": [
        {
          "output_type": "stream",
          "text": [
            "0\n",
            "1\n",
            "2\n",
            "3\n",
            "4\n"
          ],
          "name": "stdout"
        }
      ]
    },
    {
      "cell_type": "code",
      "metadata": {
        "id": "g5b7G3EZfO08",
        "colab_type": "code",
        "outputId": "792b8f29-7fa0-40f1-fa3b-68b71e3cc251",
        "colab": {
          "base_uri": "https://localhost:8080/",
          "height": 185
        }
      },
      "source": [
        "for i in range(10):\n",
        "  if i == 5:\n",
        "    continue\n",
        "  print(i)"
      ],
      "execution_count": 0,
      "outputs": [
        {
          "output_type": "stream",
          "text": [
            "0\n",
            "1\n",
            "2\n",
            "3\n",
            "4\n",
            "6\n",
            "7\n",
            "8\n",
            "9\n"
          ],
          "name": "stdout"
        }
      ]
    },
    {
      "cell_type": "markdown",
      "metadata": {
        "id": "iuGid4glgE_M",
        "colab_type": "text"
      },
      "source": [
        "# Nested For Loops\n",
        "\n",
        "Don't let the name scare you, **Nested For Loops** is just a fancy way of saying `for` loop inside a `for` loop.\n",
        "\n",
        "Let's see an example using `Nested lists`:\n",
        "\n",
        "\n",
        "\n",
        "\n",
        "\n",
        "\n"
      ]
    },
    {
      "cell_type": "code",
      "metadata": {
        "id": "GNcfzGH9l-QP",
        "colab_type": "code",
        "outputId": "363781ab-49f4-450d-bcf7-0fa24ac7b928",
        "colab": {
          "base_uri": "https://localhost:8080/",
          "height": 316
        }
      },
      "source": [
        "mai_list = [ [1,2,3] ,[4,5,6] ,[7,8,9] ,[10,11,12] ]\n",
        "list_length = len(mai_list)\n",
        "\n",
        "for i in range(list_length):\n",
        "  for j in mai_list[i]:\n",
        "    print(j)\n",
        "  print(\"---\")"
      ],
      "execution_count": 0,
      "outputs": [
        {
          "output_type": "stream",
          "text": [
            "1\n",
            "2\n",
            "3\n",
            "---\n",
            "4\n",
            "5\n",
            "6\n",
            "---\n",
            "7\n",
            "8\n",
            "9\n",
            "---\n",
            "10\n",
            "11\n",
            "12\n",
            "---\n"
          ],
          "name": "stdout"
        }
      ]
    },
    {
      "cell_type": "markdown",
      "metadata": {
        "id": "QrDpHjXpX-oT",
        "colab_type": "text"
      },
      "source": [
        "Let's examine what's happening in code above.\n",
        "\n",
        "1. We create 4 list with each containing 3 elements inside big list.\n",
        "2. We learn how many `lists` are insinde `mai_list`\n",
        "3. we loop through the element count in `mai_list`\n",
        "4. for each iteration we loop inside the elements of the inner `list` at the index of i.\n",
        "5. we print the element\n",
        "\n",
        "---\n",
        "\n",
        "\n"
      ]
    },
    {
      "cell_type": "markdown",
      "metadata": {
        "id": "bEpk2MU2h9wZ",
        "colab_type": "text"
      },
      "source": [
        "# Summary\n",
        "\n",
        "In Python, we have control statements, which alter the code based on conditions. For example we want to check whether a variable is equal to a specific value. then we use control statements.\n",
        "\n",
        "Even though loops are not considered 'Control Statements' it still allows us to control the code based upon conditions.\n",
        "\n",
        "* `if`: execute the code block below(still in the indentation) **if** the given condition\n",
        "* `elif`: run another condition **if** condition above is `false`\n",
        "* `else`: execute the code block below **if** *all* is false.\n",
        "* `while`: loops through the code below **if** the given condition is `true`\n",
        "* `for` : A `for` loop is used for iterating over a sequence (that is either a list, a tuple, a dictionary, a set, or a string). But Also can be used to loop through a set of numbers using `range()`\n",
        "* `break` : breaks out of the the current loop.\n",
        "* `continue` : skips to the next iteration of the loop.\n",
        "\n"
      ]
    },
    {
      "cell_type": "markdown",
      "metadata": {
        "id": "q5CAze5ipb8A",
        "colab_type": "text"
      },
      "source": [
        "---\n",
        "# Exercises\n",
        "\n",
        "**Easy**\n",
        "\n",
        "1. Print all the numbers that are divisble by `3` from `1` to `50`\n",
        "2. Print all the numbers that are divisible by `5` but not `3` from `1` to `50`\n",
        "\n",
        "**Medium**\n",
        "\n",
        "1. Create one list containing the years from 2010 to 2020, and create another list containing sales made for each year(eg. the first element of the list is the sales made in 2010, the sales can be any number you like). and then print each year and the sales made that year.\n",
        "\n",
        "2. Create list of integers, with each iteration print the sum of the previous elements.\n",
        "\n",
        "**Hard**\n",
        "\n",
        "1. Calculate the factorial of a given number from the user.\n",
        "\n",
        "**Extra Hard**\n",
        "\n",
        "1. Print all of the prime numbers from `1` to `30`.\n",
        "\n",
        "\n"
      ]
    },
    {
      "cell_type": "markdown",
      "metadata": {
        "id": "5OBZ_KQD6iD8",
        "colab_type": "text"
      },
      "source": [
        "# Additional Reading\n",
        "\n",
        "[link text](https://)"
      ]
    }
  ]
}