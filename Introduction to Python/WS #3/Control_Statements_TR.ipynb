{
  "nbformat": 4,
  "nbformat_minor": 0,
  "metadata": {
    "colab": {
      "name": "Control_Statements_TR.ipynb",
      "provenance": [],
      "collapsed_sections": [],
      "include_colab_link": true
    },
    "kernelspec": {
      "name": "python3",
      "display_name": "Python 3"
    }
  },
  "cells": [
    {
      "cell_type": "markdown",
      "metadata": {
        "id": "view-in-github",
        "colab_type": "text"
      },
      "source": [
        "<a href=\"https://colab.research.google.com/github/MAIClub/maiWorkshops19/blob/master/Control_Statements_TR.ipynb\" target=\"_parent\"><img src=\"https://colab.research.google.com/assets/colab-badge.svg\" alt=\"Open In Colab\"/></a>"
      ]
    },
    {
      "cell_type": "markdown",
      "metadata": {
        "id": "hsCbBd2-G1Vm",
        "colab_type": "text"
      },
      "source": [
        "# Ders Materyaline Ulaşma\n",
        "\n",
        "Bu Colab Materyaline aşağıdaki linkte ulaşabilirsiniz:\n",
        "\n",
        "# http://bit.ly/MAIWS3_TR\n"
      ]
    },
    {
      "cell_type": "markdown",
      "metadata": {
        "id": "46SjB7RwPAqq",
        "colab_type": "text"
      },
      "source": [
        "\n",
        "# Kontrol İfadeleri\n",
        "Bu derste aşağıdaki konuları ele alacağız.\n",
        "\n",
        "\n",
        "*   `if` , `elif` ve `else` ifadeleri\n",
        "*   `for` ve `while` loops\n",
        "* \n",
        "\n",
        "\n",
        "Python'da, kodu koşullara göre değiştiren kontrol ifadeleri vardır. Örneğin, bir değişkenin belirli bir değere eşit olup olmadığını kontrol etmek istiyoruz. sonra kontrol ifadeleri kullanıyoruz.\n",
        "\n",
        "\n",
        "---\n",
        "# If Statement\n",
        "Önceki derslerde karşılaştırma operatörlerini öğrendik.\n",
        "`if` ifadesi kullanmak oldukça basittir.\n",
        "\n",
        "Kontrol edilecek koşulu koyduk, sonra python'a aşağıdaki blok kodunu çalıştırmasını söylemek için `:` koyduk(eğer bu koşul `true` ise).\n",
        "\n",
        "\n",
        "\n",
        "> Note: Python girinti(indentation)'a çok önem verir, o yüzden dikkat edin.\n",
        "\n"
      ]
    },
    {
      "cell_type": "code",
      "metadata": {
        "id": "zwZZCG-rM4fv",
        "colab_type": "code",
        "outputId": "d4d4ad42-a0d9-4242-eb6b-b40dcd6d2ce1",
        "colab": {
          "base_uri": "https://localhost:8080/",
          "height": 52
        }
      },
      "source": [
        "if 5 > 3:\n",
        "  print(\"a\")\n",
        "if 4 == 4:\n",
        "  print(\"b\")\n",
        "if 5 == 1:\n",
        "  print(\"c\")"
      ],
      "execution_count": 0,
      "outputs": [
        {
          "output_type": "stream",
          "text": [
            "a\n",
            "b\n"
          ],
          "name": "stdout"
        }
      ]
    },
    {
      "cell_type": "markdown",
      "metadata": {
        "id": "ttW6pzUKTFUl",
        "colab_type": "text"
      },
      "source": [
        "Tamam, böylece sayıyı karşılaştırabiliriz, peki neye yarıyor ki bu? kullanışlı bile değil.\n",
        "\n",
        "Değişkenler ile deneyelim."
      ]
    },
    {
      "cell_type": "code",
      "metadata": {
        "id": "Zpe_OyZKShTB",
        "colab_type": "code",
        "colab": {}
      },
      "source": [
        "var = 10\n",
        "num = 5\n",
        "\n",
        "if var == 5:\n",
        "  print(\"var is 5\")\n",
        "if var == num:\n",
        "  print(\"var equals to num\")"
      ],
      "execution_count": 0,
      "outputs": []
    },
    {
      "cell_type": "markdown",
      "metadata": {
        "id": "9Dy_GCPKr7go",
        "colab_type": "text"
      },
      "source": [
        "Ve sadece tamsayılar da değil, diğer veri türlerini de karşılaştırabiliriz."
      ]
    },
    {
      "cell_type": "code",
      "metadata": {
        "id": "GK3TCXbApUkx",
        "colab_type": "code",
        "colab": {}
      },
      "source": [
        "integer = 8\n",
        "float_number = 14.2\n",
        "text = \"Hello.\"\n",
        "boolean = True\n",
        "another_integer = 9\n",
        "\n",
        "if text == \"Hello.\":\n",
        "  print(\"string comparison.\")\n",
        "\n",
        "if boolean: # The opposite of this would be !boolean. We can also write boolean == True,boolean but this way is shorter.\n",
        "  print(\"boolean comparison.\")\n",
        "\n",
        "if (float_number - 5.0) == 9.2:\n",
        "  print(\"float comparsion\")\n",
        "\n",
        "if integer % 2 == 0:\n",
        "  print(\"8 is divisible by 2\")\n",
        "\n",
        "if another_integer != 2:\n",
        "  print(\"another_integer does not equal to 2\")\n"
      ],
      "execution_count": 0,
      "outputs": []
    },
    {
      "cell_type": "markdown",
      "metadata": {
        "id": "0m3s4d9Erm5F",
        "colab_type": "text"
      },
      "source": [
        "`and`, `or` işleçlerini kullanarak birden fazla koşul üzerinde kontroller yapabilirsiniz,\n",
        "Örnek:"
      ]
    },
    {
      "cell_type": "code",
      "metadata": {
        "id": "RgysS04wr85A",
        "colab_type": "code",
        "colab": {}
      },
      "source": [
        "var = 1\n",
        "another_var = 12\n",
        "\n",
        "if var == 1 and another_var == 12:\n",
        "  print(\"If var is 1 and another_var is 12, this will be executed\")\n",
        "\n",
        "if var == 1 and another_var == 10:\n",
        "  print(\"If var is 1 and another_var is 10, this will be executed\") # this will not be executed because both conditions need to be true\n",
        "\n",
        "if var == 1 or another_var == 10:\n",
        "  print(\"If var is 1 or another_var is 10, this will be executed\")\n"
      ],
      "execution_count": 0,
      "outputs": []
    },
    {
      "cell_type": "markdown",
      "metadata": {
        "id": "FCcIJcegRc1D",
        "colab_type": "text"
      },
      "source": [
        "Peki koşulun karşılanmadığı zamanlarda bir takım kodu çalıştırmak istiyorsak? sadece `else:` yazacağız ve hepsi bu."
      ]
    },
    {
      "cell_type": "code",
      "metadata": {
        "id": "M9hSjZtGOdfl",
        "colab_type": "code",
        "colab": {}
      },
      "source": [
        "if 5 == 4:\n",
        "  print(\"5 = 4\")\n",
        "else:\n",
        "  print(\"Wait, that's not true.\")"
      ],
      "execution_count": 0,
      "outputs": []
    },
    {
      "cell_type": "markdown",
      "metadata": {
        "id": "1xOKdwTyXN85",
        "colab_type": "text"
      },
      "source": [
        "`elif` (else if).\n",
        "\n",
        "`elif` deyimi, zaten oluşturulmuş bir `if` ifadesinden sonra kullanılır ve istediğiniz kadar olabilir. basitçe söylemek gerekirse, eğer `elif` in yukarıdaki koşulu yerine getirilmezse, aşağıdaki `elif` ifadesi yürütülür.\n",
        "\n",
        "\n"
      ]
    },
    {
      "cell_type": "code",
      "metadata": {
        "id": "tz98E6VVVzxN",
        "colab_type": "code",
        "colab": {}
      },
      "source": [
        "var = 10\n",
        "num = 5\n",
        "\n",
        "if var == 12:\n",
        "  print(\"var is 12\")\n",
        "elif var == 11:\n",
        "  print(\"var is 11\")\n",
        "elif var == 10:\n",
        "  print(\"var is 10\")\n",
        "else:\n",
        "  print(\"none of above\")"
      ],
      "execution_count": 0,
      "outputs": []
    },
    {
      "cell_type": "markdown",
      "metadata": {
        "id": "XaohneSv_lnZ",
        "colab_type": "text"
      },
      "source": [
        "---\n",
        "# The While Loop\n",
        "\n",
        "Bazen, aynı kodu döngüye alıp üst üstte çalıştırmak ve her zamansa farklı bir şeyler meydana gelmesini isteyebilirz.\n",
        "Elbette, aynı kodu farklı değişikliklerle tekrar tekrar yazmak hem zaman alıcı;hem de pratik olmaz.\n",
        "\n",
        "Burada, looplar bizi zahmetten kurtarıyor. `While`'ın sözdizimi `if` ile aynıdır.\n",
        "\n",
        "İşte aşağıda bir örnek.\n",
        "\n",
        "\n",
        "\n"
      ]
    },
    {
      "cell_type": "code",
      "metadata": {
        "id": "xj1-VXiS_UhT",
        "colab_type": "code",
        "colab": {}
      },
      "source": [
        "num = 0\n",
        "while num <= 10:\n",
        "  print(num)\n",
        "  num = num + 1\n"
      ],
      "execution_count": 0,
      "outputs": []
    },
    {
      "cell_type": "markdown",
      "metadata": {
        "id": "GvNPWS8MPcs-",
        "colab_type": "text"
      },
      "source": [
        "Yukarıdaki olan işlemlere sırayla bakalım:\n",
        "\n",
        "1. `num` adlı bir değişken oluşturup `0`'a eşitle.\n",
        "2. `while` komutu, `num`, 10dan küçük eşit mi diye bakıyor. Eğer öyleyse altındaki kodu çalıştırıyor. Eğer değilse `while` bitmiştir.\n",
        "3. `print(num)`\n",
        "4. `num`'ın o anki değerine `1` ekle\n",
        "5. 2 numaralı adıma git\n",
        "\n"
      ]
    },
    {
      "cell_type": "markdown",
      "metadata": {
        "id": "AYSlGYanH_Jh",
        "colab_type": "text"
      },
      "source": [
        "---\n",
        "`break` ve `continue`.\n",
        "\n",
        "Döngümüzü, döngüye koyduğumuz bazı iç koşullara göre kontrol edebiliriz.\n",
        "\n",
        "* `break`: Bu komut döngüden çıkar (döngüyü bitirir)\n",
        "* `continue`: bu komut döngünün sonraki iterasyonuna atlar.\n",
        "\n",
        "> Not: Hem `break` hem de `continue`'ın altındaki kod yürütülmez (döngünün içideyken).\n",
        "> Not: Döngünün her bir çalışmasına iterasyon denir.\n",
        "\n",
        "`continue` için bir örnek:\n",
        "\n",
        "`index` `5` olduğunda bir sonraki iterasyon'a geçer."
      ]
    },
    {
      "cell_type": "code",
      "metadata": {
        "id": "bbdHN8CpH-FL",
        "colab_type": "code",
        "colab": {}
      },
      "source": [
        "index = 0\n",
        "while index < 10:\n",
        "  index += 1\n",
        "  if index == 5:\n",
        "    continue\n",
        "  print(index)\n",
        "  "
      ],
      "execution_count": 0,
      "outputs": []
    },
    {
      "cell_type": "markdown",
      "metadata": {
        "id": "Y3Q9Eo-9ftK8",
        "colab_type": "text"
      },
      "source": [
        "`break` için bir örnek:\n",
        "\n",
        "`index` `5` olduğunda döngüden çıkar(döngüyü bitirir) "
      ]
    },
    {
      "cell_type": "code",
      "metadata": {
        "id": "VBk_AFrjgVdR",
        "colab_type": "code",
        "outputId": "4434dd7d-cf6c-4f1e-e4b8-701ac0341142",
        "colab": {
          "base_uri": "https://localhost:8080/",
          "height": 129
        }
      },
      "source": [
        "index = 0\n",
        "while index < 10:\n",
        "  print(index)\n",
        "  if index == 5:\n",
        "    break\n",
        "  index += 1"
      ],
      "execution_count": 0,
      "outputs": [
        {
          "output_type": "stream",
          "text": [
            "0\n",
            "1\n",
            "2\n",
            "3\n",
            "4\n",
            "5\n"
          ],
          "name": "stdout"
        }
      ]
    },
    {
      "cell_type": "markdown",
      "metadata": {
        "id": "Y_KhX864hqar",
        "colab_type": "text"
      },
      "source": [
        "---\n",
        "# The For Loop\n",
        "\n",
        "`for` döngüsü muhtemelen python'daki en kullanışlı kontrol ifadelerinden biridir.\n",
        "`for` döngüsü, bir dizi üzerinde yineleme yapmak için kullanılır (bu bir liste, bir tuple, bir sözlük, bir set veya bir dizedir).\n",
        "\n",
        "Bu, diğer programlama dillerinde `for` anahtar sözcüğüyle daha az benzer ve diğer nesne yönelimli programlama dillerinde bulunan bir yineleyici yöntemine benzer şekilde çalışır.\n",
        "\n",
        "İlk önce temellerle başlayalım: `range ()`\n",
        "\n",
        "Belirli bir sayıda kod kümesi arasında dolaşmak için `range ()` fonksiyonunu kullanabiliriz,\n",
        "\n",
        "`range()` fonksiyonu bir sayı dizisi döndürür, **varsayılan olarak 0'dan başlar ve 1 (varsayılan) olarak artar** ve belirtilen bir sayı ile biter.\n",
        "\n",
        "İşte bazı örnekler:\n",
        "\n"
      ]
    },
    {
      "cell_type": "code",
      "metadata": {
        "id": "v7UFHbdh4bp7",
        "colab_type": "code",
        "colab": {}
      },
      "source": [
        "for number in range(10): #We are using variable names 'number' here, it's totally up to you what you name your variable here.You'll usually see 'i' as the variable name online.\n",
        "  print(number)"
      ],
      "execution_count": 0,
      "outputs": []
    },
    {
      "cell_type": "markdown",
      "metadata": {
        "id": "6pP5UKSx52dI",
        "colab_type": "text"
      },
      "source": [
        "Başlangıç sayısını `range(başlangıç_sayısı, bitiş sayısı)` ile değiştirebiliriz."
      ]
    },
    {
      "cell_type": "code",
      "metadata": {
        "id": "AOrosfSJ4jp3",
        "colab_type": "code",
        "colab": {}
      },
      "source": [
        "for number in range(10,20):\n",
        "  print(number)"
      ],
      "execution_count": 0,
      "outputs": []
    },
    {
      "cell_type": "markdown",
      "metadata": {
        "id": "wze8rFC86R8n",
        "colab_type": "text"
      },
      "source": [
        "Ayrıca, artırma değerini `range(başlangıç_sayısı, bitiş sayısı,artış değeri)` ile değiştirebilirsiniz. \n",
        "\n",
        "Bazı örnekler:"
      ]
    },
    {
      "cell_type": "code",
      "metadata": {
        "id": "aesMmkai6O0d",
        "colab_type": "code",
        "colab": {}
      },
      "source": [
        "for number in range(0,20,2):\n",
        "  print(number)\n",
        "\n",
        "print(\"-------------\")\n",
        "\n",
        "for number in range(20,10,-1):\n",
        "  print(number)\n"
      ],
      "execution_count": 0,
      "outputs": []
    },
    {
      "cell_type": "markdown",
      "metadata": {
        "id": "M_AKvcJC-i9o",
        "colab_type": "text"
      },
      "source": [
        "`for` döngüsü sadece sayıları döngüye almak için değildir, `string`,`set`,`tuple` vb değişkenler içinde de döngüye girmeyi sağlar .\n",
        "\n",
        "Birkaç örnek görelim.\n",
        "\n",
        "String için:"
      ]
    },
    {
      "cell_type": "code",
      "metadata": {
        "id": "GExapmvR-2j0",
        "colab_type": "code",
        "colab": {}
      },
      "source": [
        "text = \"MedicalAI\"\n",
        "\n",
        "for letter in text: \n",
        "  print(letter)"
      ],
      "execution_count": 0,
      "outputs": []
    },
    {
      "cell_type": "markdown",
      "metadata": {
        "id": "1r_g0yNC_O29",
        "colab_type": "text"
      },
      "source": [
        "Liste için:\n"
      ]
    },
    {
      "cell_type": "code",
      "metadata": {
        "id": "gruPPgGD_NXI",
        "colab_type": "code",
        "outputId": "67535c02-dea9-4d4b-9acf-f758111dd4d1",
        "colab": {
          "base_uri": "https://localhost:8080/",
          "height": 92
        }
      },
      "source": [
        "array = [\"Medical\",\"Artificial\",\"Intelligence\",\"Club\"]\n",
        "\n",
        "for element in array:\n",
        "  print(element)"
      ],
      "execution_count": 0,
      "outputs": [
        {
          "output_type": "stream",
          "text": [
            "Medical\n",
            "Artificial\n",
            "Intelligence\n",
            "Club\n"
          ],
          "name": "stdout"
        }
      ]
    },
    {
      "cell_type": "markdown",
      "metadata": {
        "id": "ZwkPxuf6ez9J",
        "colab_type": "text"
      },
      "source": [
        "Tıpkı `while` döngüsünde olduğu gibi, `break` ve `continue` ifadelerine sahibiz:\n",
        "\n",
        "\n"
      ]
    },
    {
      "cell_type": "code",
      "metadata": {
        "id": "m1yBdf7OfEg1",
        "colab_type": "code",
        "colab": {}
      },
      "source": [
        "for i in range(10):\n",
        "  if i == 5:\n",
        "    break\n",
        "  print(i)"
      ],
      "execution_count": 0,
      "outputs": []
    },
    {
      "cell_type": "code",
      "metadata": {
        "id": "g5b7G3EZfO08",
        "colab_type": "code",
        "colab": {}
      },
      "source": [
        "for i in range(10):\n",
        "  if i == 5:\n",
        "    continue\n",
        "  print(i)"
      ],
      "execution_count": 0,
      "outputs": []
    },
    {
      "cell_type": "markdown",
      "metadata": {
        "id": "iuGid4glgE_M",
        "colab_type": "text"
      },
      "source": [
        "# Nested For Loops\n",
        "\n",
        "`Nested lists` kullanarak birkaç örnek görelim:\n",
        "\n",
        "İsmin sizi korkutmasına izin vermeyin, **Nested For Loops**, iç içe döngü demenin sadece süslü bir yoludur.\n",
        "\n",
        "`Nested lists` kullanarak bir örnek görelim."
      ]
    },
    {
      "cell_type": "code",
      "metadata": {
        "id": "GNcfzGH9l-QP",
        "colab_type": "code",
        "colab": {}
      },
      "source": [
        "mai_list = [ [1,2,3] ,[4,5,6] ,[7,8,9] ,[10,11,12] ]\n",
        "list_length = len(mai_list)\n",
        "\n",
        "for i in range(list_length):\n",
        "  inner_length = len(mai_list[i])\n",
        "  for j in range(inner_length):\n",
        "    print(mai_list[i][j])\n",
        "  print(\"---\")"
      ],
      "execution_count": 0,
      "outputs": []
    },
    {
      "cell_type": "markdown",
      "metadata": {
        "id": "QrDpHjXpX-oT",
        "colab_type": "text"
      },
      "source": [
        "Yukaridaki kodun ne yaptığını inceleyelim\n",
        "\n",
        "1. İçinde 4 liste içeren bir liste oluştururuz.\n",
        "2. `Mai_list`in içinde kaç tane `liste` olduğunu öğrenir ve onu \"list_length\" a atarız.\n",
        "3. `mai_list` (yani `list_length`) 'deki element sayımını geçiyoruz\n",
        "4. `Mai_list[i] `de kaç değer olduğunu öğreniriz ve onu `inner_length`a atarız.\n",
        "5. `mai_list[i]` `içindeki element sayımını geçiyoruz\n",
        "6. Öğeyi yazdırıyoruz\n",
        "\n",
        "---\n",
        "\n",
        "\n"
      ]
    },
    {
      "cell_type": "markdown",
      "metadata": {
        "id": "bEpk2MU2h9wZ",
        "colab_type": "text"
      },
      "source": [
        "# Özet\n",
        "\n",
        "Python'da koda göre değişen kodu değiştiren kontrol ifadeleri var. Örneğin, bir değişkenin belirli bir değere eşit olup olmadığını kontrol etmek istiyoruz. Bunun için kontrol ifadeleri kullanıyoruz.\n",
        "\n",
        "Döngüler `Kontrol İfadeleri` olarak görülmese de, şartlara bağlı olarak kodu kontrol etmemize izin verir.\n",
        "\n",
        "* `if`: Eğer verilen koşul doğru ise altındaki kodu çalışıtır(girinti içerisindeyken tabiki de)\n",
        "* `elif`: yukarıdaki koşul, yani `if`, yanlışsa başka bir `if` çalıştır\n",
        "* `else`: Eğer yukarıdaki bütün koşullar yanlışsa altındaki kodu çalıştır.\n",
        "* `while`: Verilen koşul `True` ise altındaki kodu döngüye sok(ta ki koşul `False` olana kadar) .\n",
        "* `for` : Bir `for` döngüsü, bir dize üzerinde yineleme yapmak için kullanılır. (bu bir liste, bir tuple, bir sözlük, bir set veya bir dizedir). Ancak `range ()` kullanarak bir sayı kümesi arasında dolaşmak için de kullanılabilir.\n",
        "* `break`: Bu komut döngüden çıkar (döngüyü bitirir)\n",
        "* `continue`: bu komut döngünün sonraki iterasyonuna atlar.\n",
        "\n"
      ]
    },
    {
      "cell_type": "markdown",
      "metadata": {
        "id": "q5CAze5ipb8A",
        "colab_type": "text"
      },
      "source": [
        "---\n",
        "# Pratik\n",
        "\n",
        "\n",
        "**Kolay**\n",
        "\n",
        "1. `1`'den `10`'a kadar 3'e bölünebilen bütün sayıları printleyin\n",
        "2. `1`'den `10`'a kadar 5'e bölünebilien ama 3'e bölünemeyen bütün sayıları yazdırın\n",
        "3. `5000`'den başlayarak `1350`'e kadar bütün `7`'e bölünebilen bütün sayıları yazdırın.\n",
        "\n",
        "**Orta**\n",
        "\n",
        "1. 2010'dan 2020'ye kadar olan yılları içeren bir liste oluşturun ve her yıl için yapılan satışları içeren başka bir liste oluşturun (örneğin, listenin ilk öğesi 2010'da yapılan satışlardır, satışlar istediğiniz sayıda olabilir). Ardından her yılı ve o yıl yapılan satışları yazdırın.\n",
        "\n",
        "2. Tamsayılar listesi oluşturun, her yineleme ile önceki öğelerin toplamını yazdırın.\n",
        "\n",
        "**Zor**\n",
        "\n",
        "1. Kullanıcı tarafından girilen bir sayının faktöriyelini hesaplayın\n",
        "\n",
        "**Aşırı zor**\n",
        "\n",
        "1. `1`'de `30`a kadar bütün asal sayıları yazdırın.\n",
        "\n",
        "\n"
      ]
    },
    {
      "cell_type": "markdown",
      "metadata": {
        "id": "5OBZ_KQD6iD8",
        "colab_type": "text"
      },
      "source": [
        "# Ek Okuma\n",
        "\n",
        "[Loops](https://www.tutorialspoint.com/python/pdf/python_loops.pdf)\n"
      ]
    }
  ]
}