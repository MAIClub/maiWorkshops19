{
  "nbformat": 4,
  "nbformat_minor": 0,
  "metadata": {
    "colab": {
      "name": "Functions.ipynb",
      "provenance": [],
      "collapsed_sections": [],
      "include_colab_link": true
    },
    "kernelspec": {
      "name": "python3",
      "display_name": "Python 3"
    }
  },
  "cells": [
    {
      "cell_type": "markdown",
      "metadata": {
        "id": "view-in-github",
        "colab_type": "text"
      },
      "source": [
        "<a href=\"https://colab.research.google.com/github/MAIClub/maiWorkshops19/blob/master/Functions.ipynb\" target=\"_parent\"><img src=\"https://colab.research.google.com/assets/colab-badge.svg\" alt=\"Open In Colab\"/></a>"
      ]
    },
    {
      "cell_type": "markdown",
      "metadata": {
        "id": "CZyBRfcx1KGt",
        "colab_type": "text"
      },
      "source": [
        "---\n",
        "# Fonksiyonlar\n",
        "\n",
        "Fonksiyonlar tek bir çatı altında toplanmış, bir amaç için yazılmış tekrardan kullanılabilir kod bloğudur.\n",
        "\n",
        "\n",
        "Fonksiyonların en büyük avantajları, tekrar kullanılabilir ve yazdığınız kodu organize ediyor olmasıdır.\n",
        "\n",
        "Fonksiyon tanımlama:\n",
        "1. `def` kelimesi fonksiyon olduğunu belirtir\n",
        "2. Ardından fonksiyon ismi yazılır ve parantez eklenir. `def function()`\n",
        "3. Eğer fonksiyon amacını gerçekleştirmek için bilgi gerektiriyorsa parentezlerin için `parameter`(herhangi bir değişken) ekleriz.\n",
        "`def function(variable)`\n",
        "4. Eğer fonksiyonun amacı verilen değişken üzerinde işlem yapmak ise, işlenmiş değişkeni geri döndürebiliriz(isteğe bağlı). `return new_variable`\n",
        "\n",
        "\n",
        "---"
      ]
    },
    {
      "cell_type": "markdown",
      "metadata": {
        "id": "USNXtlen4bN3",
        "colab_type": "text"
      },
      "source": [
        "**Örnek #1**\n",
        "\n",
        "Kullanıcıya isimli ile Merhaba diyen bir fonksiyon"
      ]
    },
    {
      "cell_type": "code",
      "metadata": {
        "id": "yRBStDX96trr",
        "colab_type": "code",
        "colab": {}
      },
      "source": [
        "def merhaba(isim):\n",
        "  print(\"Merhaba \" + isim)\n",
        "\n",
        "merhaba(\"Doğukan\")"
      ],
      "execution_count": 0,
      "outputs": []
    },
    {
      "cell_type": "markdown",
      "metadata": {
        "id": "qRGoj0I57pqk",
        "colab_type": "text"
      },
      "source": [
        "Yukarıda sırayla olanlar:\n",
        "1. `merhaba` adında bir fonksiyon tanımlıyoruz.\n",
        "2. Gerekli parametre olarak `isim` değişkenini alıyoruz.\n",
        "3. `\"Merhaba\"` yazısı ile `isim` değişkenini birleştirip, printliyoruz.\n",
        "4. Fonksiyonun dışındayken de `merhaba` fonksiyonunu çağırıp, parametre olarak `\"Doğukan\"` ismini giriyoruz."
      ]
    },
    {
      "cell_type": "markdown",
      "metadata": {
        "id": "0iDgpZXc7Rp0",
        "colab_type": "text"
      },
      "source": [
        "**Örnek #2**\n",
        "\n",
        "Verilen sayının karesini alıp, geri döndüren bir fonksiyon"
      ]
    },
    {
      "cell_type": "code",
      "metadata": {
        "id": "4aRF5TWO4a3A",
        "colab_type": "code",
        "colab": {}
      },
      "source": [
        "def square(x):\n",
        "  return x * x\n",
        "\n",
        "squared_number = square(5)\n",
        "print(squared_number)"
      ],
      "execution_count": 0,
      "outputs": []
    },
    {
      "cell_type": "markdown",
      "metadata": {
        "id": "0aXqHic99NRl",
        "colab_type": "text"
      },
      "source": [
        "Yukarıda sırayla olanlar:\n",
        "1. `square` adında bir fonksiyon tanımlıyoruz.\n",
        "2. Gerekli parametre olarak `x` değişkenini alıyoruz.\n",
        "3. `x` sayısını `x` ile çarpıp, oluşan değeri geri döndürüyoruz.\n",
        "4. `square()` fonksiyonunu çağırıyoruz ve **geri döndürdüğü** değeri `squared_number`'a eşitleyip, printliyoruz."
      ]
    },
    {
      "cell_type": "markdown",
      "metadata": {
        "id": "FLhNFXCox_7y",
        "colab_type": "text"
      },
      "source": [
        "fonksiyonumuzun içine birden çok parametre yerleştirebiliriz :"
      ]
    },
    {
      "cell_type": "code",
      "metadata": {
        "id": "kBJnvbz3yJeI",
        "colab_type": "code",
        "colab": {}
      },
      "source": [
        "def topla(x,y):\n",
        "  return x + y\n",
        "\n",
        "print(topla(5,10))"
      ],
      "execution_count": 0,
      "outputs": []
    },
    {
      "cell_type": "markdown",
      "metadata": {
        "id": "ujqnHNwmrLI5",
        "colab_type": "text"
      },
      "source": [
        "**Örnek #3**"
      ]
    },
    {
      "cell_type": "markdown",
      "metadata": {
        "id": "Xvt2tz3Krd66",
        "colab_type": "text"
      },
      "source": [
        "Herhangi bir parametre türünü bir fonsiyonua (string, sayı, liste, dictionary vb.) gönderebilirsiniz; \n",
        "\n",
        "Örneğin. Bir Listeyi parametre olarak gönderirseniz, işleve ulaştığında yine de bir Liste olacaktır:"
      ]
    },
    {
      "cell_type": "code",
      "metadata": {
        "id": "cMc-HXaDrPne",
        "colab_type": "code",
        "colab": {}
      },
      "source": [
        "def liste_fonksiyonu(food):\n",
        "  for x in food:\n",
        "    print(x)\n",
        "\n",
        "fruits = [\"apple\", \"banana\", \"cherry\"]\n",
        "\n",
        "liste_fonksiyonu(fruits)"
      ],
      "execution_count": 0,
      "outputs": []
    },
    {
      "cell_type": "markdown",
      "metadata": {
        "id": "kbECXQTGyj84",
        "colab_type": "text"
      },
      "source": [
        "**Alıştırma**\n",
        "\n",
        "4 tane farklı fonksiyon yazın: toplama, çıkarma, çarpma ve bölme.\n",
        "\n",
        "---"
      ]
    },
    {
      "cell_type": "markdown",
      "metadata": {
        "id": "4M-i7OAdzThG",
        "colab_type": "text"
      },
      "source": [
        "# Scope (Kapsam)\n",
        "\n",
        "Bir değişkenin Scope'u, değişkenin tanındığı bir programın bölümüdür. Bir fonksiyon içinde tanımlanan parametreler ve değişkenler dışarıdan görünmez. Bu nedenle, yerel bir scope'u vardır.\n",
        "\n",
        "Burada, önemli iki terim vardır, `global` ve `local` değişkenler.\n",
        "\n",
        "`global`: Python'da, fonksiyonun dışında tanımlanan bir değişkene global değişken denir. Bu değişkenler, her fonksiyon tarafında erişebilirler.\n",
        "\n",
        "`local`: local, yani yerel değişkenler sadece tanımladığın fonksiyonun veya kontrol ifadesinin içinde erişilebilirler.\n",
        "\n",
        "**Örnek #4**"
      ]
    },
    {
      "cell_type": "code",
      "metadata": {
        "id": "l8LiDbrZ2MPz",
        "colab_type": "code",
        "colab": {}
      },
      "source": [
        "\n",
        "def function(): \n",
        "\tprint(s) \n",
        "\n",
        "# Global değişken\n",
        "s = \"Python Workshop\"\n",
        "function() \n"
      ],
      "execution_count": 0,
      "outputs": []
    },
    {
      "cell_type": "markdown",
      "metadata": {
        "id": "TWgEQelT_hFe",
        "colab_type": "text"
      },
      "source": [
        "**Örnek #5**\n",
        "\n",
        "x `global` kapsamda tanımlandığı için hem fonksiyon içinde hem de fonksiyon dışında kullanabiliriz"
      ]
    },
    {
      "cell_type": "code",
      "metadata": {
        "id": "IIH6Emoj_jhH",
        "colab_type": "code",
        "colab": {
          "base_uri": "https://localhost:8080/",
          "height": 51
        },
        "outputId": "27e63700-9797-4c5d-9282-61e91323e1ff"
      },
      "source": [
        "x = 300\n",
        "\n",
        "def myfunc():\n",
        "  print(x)\n",
        "\n",
        "myfunc()\n",
        "\n",
        "print(x)"
      ],
      "execution_count": 1,
      "outputs": [
        {
          "output_type": "stream",
          "text": [
            "300\n",
            "300\n"
          ],
          "name": "stdout"
        }
      ]
    },
    {
      "cell_type": "markdown",
      "metadata": {
        "id": "MdowCO10-SZs",
        "colab_type": "text"
      },
      "source": [
        "**Örnek #6**\n",
        "\n",
        "*   ilk olarak `x` değişkeni `global` olarak `300` değeri ile tanımlanır.\n",
        "*   Ardından `myFunc()` fonksiyonunun içinde `x`'i bu sefer `local` olarak `200` değeri ile tanımlarız.\n",
        "* `print(x)` dediğimiz zaman, öncelikle değişkenin `local` halini arar. `local` hali `200` olduğu için ekrana `200` printlenir.\n",
        "\n",
        "\n",
        "Fonksiyonu çalıştırdıktan sonra tekrar `print(x)` dediğimiz zaman alıcağımız çıktı `300` olacaktır. Peki Neden? `myFunc()`'ın içinde `x`'i `200` olarak tanımlamamışmıydık?\n",
        "\n",
        "Bunun nedeni `local` değişkenlerin ömrü sadece dahil oldukarın ifadelerin için sürer. Yani, `myFunc()` bittikten sonra, `x`'in `local` değeri hafızadan silinir. En alt satırdaki kod ise, `print(x)`'in en son hafızadaki hali, `global` olarak tanımlanmış, `300` değeri printler."
      ]
    },
    {
      "cell_type": "code",
      "metadata": {
        "id": "nfOtkLDu-VHW",
        "colab_type": "code",
        "colab": {}
      },
      "source": [
        "x = 300\n",
        "\n",
        "def myfunc():\n",
        "  x = 200\n",
        "  print(x)\n",
        "\n",
        "myfunc()\n",
        "\n",
        "print(x)"
      ],
      "execution_count": 0,
      "outputs": []
    },
    {
      "cell_type": "markdown",
      "metadata": {
        "id": "31xYqS0mmnRe",
        "colab_type": "text"
      },
      "source": [
        "**Alıştırma #2**\n",
        "\n",
        "* Parametre olarak verilen iki sayının maksimumunu döndüren bir fonksiyon yazın.\n",
        "* `x` sayısını parametre alan bir program yazın, $6 x^2 + 5 x + 3$ değerini döndürsün.\n",
        "---"
      ]
    },
    {
      "cell_type": "markdown",
      "metadata": {
        "id": "zmyxHoJsoQIf",
        "colab_type": "text"
      },
      "source": [
        "# Recursion (Özyineleme)\n",
        "\n",
        "Recursion ortak bir matematiksel ve programlama kavramıdır. Bir fonksiyonun kendisini çağırdığı anlamına gelir. Bu, bir sonuca ulaşmak için verilerde dolaşabilme avantajına sahip olduğunuz anlamına gelir.\n"
      ]
    },
    {
      "cell_type": "markdown",
      "metadata": {
        "id": "cS5QRtE9tKlA",
        "colab_type": "text"
      },
      "source": [
        "**Örnek #7**\n",
        "\n",
        "\n",
        "Recursion'ı bir sayının faktöriyelini hesaplayan bir fonksiyon örneği ile öğrenebiliriz.\n"
      ]
    },
    {
      "cell_type": "code",
      "metadata": {
        "id": "VWEgylf5pdqE",
        "colab_type": "code",
        "colab": {
          "base_uri": "https://localhost:8080/",
          "height": 34
        },
        "outputId": "6c3c47c8-3b82-486f-b547-ba80168389aa"
      },
      "source": [
        "def faktoriyel(x):\n",
        "  if x <= 1:\n",
        "    return x\n",
        "  else:\n",
        "    return x * faktoriyel(x - 1)\n",
        "\n",
        "faktoriyel(4)"
      ],
      "execution_count": 3,
      "outputs": [
        {
          "output_type": "execute_result",
          "data": {
            "text/plain": [
              "120"
            ]
          },
          "metadata": {
            "tags": []
          },
          "execution_count": 3
        }
      ]
    },
    {
      "cell_type": "markdown",
      "metadata": {
        "id": "R40GBMvmpyrO",
        "colab_type": "text"
      },
      "source": [
        "Yukarıdaki örnekte, faktoriyel(), `recursive` bir fonksiyondur, çünkü kendini çağırıyordur.\n",
        "\n",
        "`faktoriyel()` fonksiyonunu pozitif bir tamsayı ile çağırdığımızda, sayıyı azaltarak tekrarlı olarak kendisini çağıracaktır.\n",
        "\n",
        "Her fonksiyon çağrısı, sayı bire eşit olana kadar sayıyı 1 numaralı faktörle çarpar. Bu recursion mantığı çağrı aşağıdaki adımlarda açıklanabilir."
      ]
    },
    {
      "cell_type": "code",
      "metadata": {
        "id": "0O4E1aA2pqzd",
        "colab_type": "code",
        "colab": {}
      },
      "source": [
        "faktoriyel(4)              # 4 sayısı ile birlikte ilk çağrı\n",
        "4 * faktoriyel(3)          # 3 sayısı ile birlikte ikinci çağrı\n",
        "4 * 3 * faktoriyel(2)      # 2 sayısı ile birlikte üçüncü çağrı\n",
        "4 * 3 * 2 * faktoriyel(1)  # 1 sayısı ile birlikte dördüncü çağrı\n",
        "4 * 3 * 2 * 1              # 4. çağrıdan dönüt\n",
        "4 * 3 * 2                  # 3. çağrıdan dönüt\n",
        "4 * 6                      # 2. çağrıdan dönüt\n",
        "24                         # 1. çağrıdan dönüt"
      ],
      "execution_count": 0,
      "outputs": []
    },
    {
      "cell_type": "markdown",
      "metadata": {
        "id": "2qmbH7TBx558",
        "colab_type": "text"
      },
      "source": [
        "---\n",
        "# Özet\n",
        "\n",
        "**Fonksiyonlar**\n",
        "\n",
        "*   Fonksiyonlar bizim yazdığımızı kodu organize, temiz, okunabilir ve önemlisi tekrar kullanılabilir hale getirir.\n",
        "* Fonksiyon tanımlama:\n",
        "  1. `def` kelimesi fonksiyon olduğunu belirtir\n",
        "  2. Ardından fonksiyon ismi yazılır ve parantez eklenir. `def function()`\n",
        "  3. Eğer fonksiyon amacını gerçekleştirmek için bilgi gerektiriyorsa parentezlerin için `parameter`(herhangi bir değişken) ekleriz.\n",
        "  `def function(variable)`\n",
        "  4. Eğer fonksiyonun amacı verilen değişken üzerinde işlem yapmak ise, işlenmiş değişkeni geri döndürebiliriz(isteğe bağlı). `return new_variable`\n",
        "\n",
        "**Scope (Kapsam)**\n",
        "\n",
        "`global`: Python'da, fonksiyonun dışında tanımlanan bir değişkene global değişken denir. Bu değişkenler, her fonksiyon tarafında erişebilirler.\n",
        "\n",
        "`local`: local, yani yerel değişkenler sadece tanımladığın fonksiyonun veya kontrol ifadesinin içinde erişilebilirler.\n",
        "\n",
        "**Recursion**\n",
        "\n",
        "Recursion ortak bir matematiksel ve programlama kavramıdır. Bir fonksiyonun kendisini çağırdığı anlamına gelir. Bu, bir sonuca ulaşmak için verilerde dolaşabilme avantajına sahip olduğunuz anlamına gelir.\n",
        "\n",
        "---\n",
        "\n",
        "#Pratik\n",
        "\n",
        "1. Verilen parametrede isim alıp, `\"merhaba \" + isim` string'ini döndüren bir fonksiyon\n",
        "\n",
        "2. Verilen `x` paremetresinin diğer verilen `y` parametresine bölünüp, bölünemediğini test eden bir fonksiyon yazın. Eğer bölünüyorsa `\"Bölünüyor\"`, bölünemiyorsa `\"Bölünemiyor\"` değerinde bir string döndürün ve bu string'i yazdırın.\n",
        "\n",
        "3. bir listedeki tüm sayıları toplamak için bir fonksiyon yazın(for loop).\n",
        "\n",
        "4. bir listedeki tüm sayıları çarpmak için için bir fonksiyon yazın(for loop).\n",
        "\n",
        "5. Aşağıdaki dizeler listesini döndüren list_benefits() adlı bir fonksiyon yazın: \"Daha organize kod\", \"Daha okunabilir kod\", \"Daha kolay kod yeniden kullanımı\", \"Programcıların birlikte kod paylaşmasına ve bağlanmasına izin verme\"\n"
      ]
    }
  ]
}